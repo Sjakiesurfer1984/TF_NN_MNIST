{
 "cells": [
  {
   "cell_type": "markdown",
   "id": "02a43b04",
   "metadata": {},
   "source": [
    "# Import dependencies"
   ]
  },
  {
   "cell_type": "markdown",
   "id": "4f85a5a6",
   "metadata": {},
   "source": [
    "### Import relevant dependencies "
   ]
  },
  {
   "cell_type": "code",
   "execution_count": 1,
   "id": "8bbc1d6a",
   "metadata": {},
   "outputs": [],
   "source": [
    "# Imports the MNIST dataset from Keras, a classic collection of 70,000 grayscale images of handwritten digits (0-9).\n",
    "from keras.datasets import mnist \n",
    "\n",
    "# Imports TensorFlow, the core open-source library from Google for building and training machine learning models. We use the alias 'tf' by convention.\n",
    "import tensorflow as tf\n",
    "\n",
    "from tensorflow import TensorShape \n",
    "\n",
    "from visualkeras import SpacingDummyLayer # Added for better text spacing\n",
    "\n",
    "# Imports the Adam optimiser. An optimiser is an algorithm that adjusts the model's internal parameters (weights) to minimise the error, and Adam is a popular, efficient choice.\n",
    "from tensorflow.keras.optimizers import Adam, SGD\n",
    "\n",
    "# Imports specific performance metrics. Metrics are used to evaluate how well the model is performing.\n",
    "# Precision: Measures the accuracy of positive predictions.\n",
    "# Recall: Measures the model's ability to find all the actual positive instances.\n",
    "# Accuracy: Measures the overall fraction of correct predictions.\n",
    "from tensorflow.keras.metrics import Precision, Recall, Accuracy\n",
    "\n",
    "# Imports the History callback object. A 'callback' is a function that can be executed at different stages of training. The History object automatically records the metrics and loss values from each epoch.\n",
    "from tensorflow.python.keras.callbacks import History\n",
    "\n",
    "# Imports the ModelCheckpoint callback. This callback saves the model to a file during training, typically only when its performance on a validation metric improves.\n",
    "from tensorflow.keras.callbacks import ModelCheckpoint, TensorBoard, EarlyStopping\n",
    "\n",
    "from tensorflow.keras.utils import plot_model\n",
    "\n",
    "# Imports the Pandas library, a powerful tool for data manipulation and analysis. It's mainly used for working with structured data in tables called DataFrames. 'pd' is the standard alias.\n",
    "import pandas as pd\n",
    "\n",
    "# Imports the Sequential model type from Keras. This is the simplest way to build a model, by creating a linear stack of layers.\n",
    "from keras.models import Sequential, Model\n",
    "\n",
    "# Imports different types of layers, which are the fundamental building blocks of a neural network.\n",
    "# Dense: A standard, fully-connected layer where each neuron is connected to every neuron in the previous layer.\n",
    "# Input: A special layer used to define the shape and data type of the model's input.\n",
    "# Flatten: A layer that transforms a multi-dimensional input (like a 2D image) into a one-dimensional vector.\n",
    "# Normalization: A preprocessing layer that scales input data to a standard range (e.g., mean of 0, standard deviation of 1), which helps the model train faster. \n",
    "from tensorflow.keras.layers import Dense, Input, Flatten, Normalization, Input, Conv2D, MaxPooling2D, Dropout\n",
    "\n",
    "# Imports a utility function from scikit-learn, a popular library for traditional machine learning. train_test_split is used to split a single dataset into separate training and testing sets.\n",
    "from sklearn.model_selection import train_test_split\n",
    "\n",
    "# Imports the pyplot interface from Matplotlib, which is the most widely used library for creating plots and visualisations in Python. 'plt' is the standard alias.\n",
    "import matplotlib.pyplot as plt\n",
    "\n",
    "# Imports the NumPy library, which is the foundation for numerical computing in Python. It provides support for large, multi-dimensional arrays and a wide range of mathematical functions. 'np' is the standard alias.\n",
    "import numpy as np\n",
    "\n",
    "# Imports a data scaling tool from scikit-learn. MinMaxScaler scales all data features to a specific range, usually 0 to 1.\n",
    "from sklearn.preprocessing import MinMaxScaler\n",
    "from sklearn.metrics import confusion_matrix, classification_report\n",
    "\n",
    "# Imports tools for 'type hinting' from Python's typing module. Type hints make code more readable and can be used by external tools to check for errors.\n",
    "# Tuple: Used to hint that a variable or function return is a tuple (an ordered, immutable collection of elements).\n",
    "from typing import Tuple\n",
    "\n",
    "# Imports a specific type hint from NumPy's typing module.\n",
    "# NDArray: Used to hint that a variable is a NumPy n-dimensional array, which is more descriptive than a generic type.\n",
    "from numpy.typing import NDArray\n",
    "\n",
    "# Imports the 'os' module. This library provides a way for Python to interact with the computer's underlying operating system.\n",
    "# We use it for tasks like reading file names from a folder (os.listdir()) and constructing file paths that work correctly on any system, like Windows, Mac, or Linux (os.path.join()).\n",
    "import os \n",
    "\n",
    "# Imports the 're' module, which stands for Regular Expression. This is Python's library for advanced pattern matching in strings.\n",
    "# We use it to find and extract specific pieces of text from a string, like pulling the accuracy score out of a complex filename (e.g., finding '0.9935' in 'model_acc-0.9935.keras').\n",
    "import re\n",
    "\n",
    "# The seaborn dependency is used for plotting confusion matrices. \n",
    "import seaborn as sns\n",
    "\n",
    "# Wandb allows us to log the results of our experiments online at the WandB platform. This platform can be used to visualise plots of our models'\n",
    "# performance (accuracy, loss) per model, or for all models at once. Additionally, this platform keeps track of the models' architecture and hyperparameters used in the trainig process. \n",
    "import wandb\n",
    "\n",
    "# This import allows us to log the metrics generated by our models (Keras)\n",
    "from wandb.integration.keras import WandbMetricsLogger, WandbModelCheckpoint\n",
    "\n",
    "import datetime\n",
    "\n",
    "import visualkeras\n",
    "\n",
    "import warnings\n",
    "\n",
    "from collections import defaultdict\n",
    "\n",
    "from PIL import ImageFont\n",
    "\n",
    "from IPython.display import display # Needed to show plots inside a function\n",
    "\n",
    "import requests"
   ]
  },
  {
   "cell_type": "markdown",
   "id": "978ce86f",
   "metadata": {},
   "source": [
    "# Import and inspct the dataset\n",
    "\n",
    "### Define the training set features (X_train) and target variable (Y_train) as well as the test set features (X_test_) and target variable (Y_test)"
   ]
  },
  {
   "cell_type": "code",
   "execution_count": 2,
   "id": "05b32fe1",
   "metadata": {},
   "outputs": [
    {
     "name": "stdout",
     "output_type": "stream",
     "text": [
      "New shape for X_train for CNN's: (60000, 28, 28, 1)\n",
      "New shape for X_test for CNN's: (10000, 28, 28, 1)\n",
      "Shape of X_train:\t (60000, 28, 28, 1)\n",
      "Shape of X_test:\t (10000, 28, 28, 1)\n",
      "Shape of Y_train:\t (60000,)\n",
      "Shape of Y_test:\t (10000,)\n",
      "X_train data type: float32\n",
      "X_test data type: float32\n",
      "Y_train data type: uint8\n",
      "Y_test data type: uint8\n",
      "\n",
      "X_train data 567-th element (a 28x28 pixel image):\n",
      " [[  0.   0.   0.   0.   0.   0.   0.   0.   0.   0.   0.   0.   0.   0.   0.   0.   0.   0.   0.   0.   0.   0.   0.   0.   0.   0.   0.   0.]\n",
      " [  0.   0.   0.   0.   0.   0.   0.   0.   0.   0.   0.   0.   0.   0.   0.   0.   0.   0.   0.   0.   0.   0.   0.   0.   0.   0.   0.   0.]\n",
      " [  0.   0.   0.   0.   0.   0.   0.   0.   0.   0.   0.   0.   0.   0.   0.   0.   0.   0.   0.   0.   0.   0.   0.   0.   0.   0.   0.   0.]\n",
      " [  0.   0.   0.   0.   0.   0.   0.   0.   0.   0.   0.   0.   0.   0.   0.   0.   0.   0.   0.   0.   0.   0.   0.   0.   0.   0.   0.   0.]\n",
      " [  0.   0.   0.   0.   0.   0.   0.   0.   0.   0.   0.   0.   0.   0.   0.   0.   0.   0.   0.   0.   0.   0.   0.   0.   0.   0.   0.   0.]\n",
      " [  0.   0.   0.   0.   0.   0.   0.   0.   0.   0.   0.   0.   0.   0.   0.   0.   0.   0.   0.   0.   0.   0.   0.   0.   0.   0.   0.   0.]\n",
      " [  0.   0.   0.   0.   0.   0.   0.   0.   0.   0.   0.   0.   0.   0.   0.   0.   0.   0.   0.   0.   0.   0.   0.   0.   0.   0.   0.   0.]\n",
      " [  0.   0.   0.   0.   0.   0.   0.   0.   0. 198. 254. 254. 162. 161. 161. 161. 162.  78.  13.   0.   0.   0.   0.   0.   0.   0.   0.   0.]\n",
      " [  0.   0.   0.   0.   0.   0.   0.   0.   0. 163. 253. 253. 254. 253. 253. 253. 254. 253. 234. 163.  68.   0.   0.   0.   0.   0.   0.   0.]\n",
      " [  0.   0.   0.   0.   0.   0.   0.   0.   0.  26. 181. 253. 230. 230. 154. 205. 230. 242. 253. 253. 241.  95.   0.   0.   0.   0.   0.   0.]\n",
      " [  0.   0.   0.   0.   0.   0.   0.   0.   0.   0.  15. 128.   0.   0.   0.   0.   0.  38. 119. 253. 254. 115.   0.   0.   0.   0.   0.   0.]\n",
      " [  0.   0.   0.   0.   0.   0.   0.   0.   0.   0.   0.   0.   0.   0.   0.   0.   0.   0.  83. 254. 255. 115.   0.   0.   0.   0.   0.   0.]\n",
      " [  0.   0.   0.   0.   0.   0.   0.   0.   0.   0.   0.   0.   0.   0.   0.   0.   0.   9. 174. 253. 216.  19.   0.   0.   0.   0.   0.   0.]\n",
      " [  0.   0.   0.   0.   0.   0.   0.   0.   0.   0.   0.   0.   0.   0.   0.   0.   0. 164. 253. 244. 101.   0.   0.   0.   0.   0.   0.   0.]\n",
      " [  0.   0.   0.   0.   0.   0.   0.   0.   0.   0.   0.   0.   0.   0.   0.   0. 119. 247. 253. 128.   0.   0.   0.   0.   0.   0.   0.   0.]\n",
      " [  0.   0.   0.   0.   0.   0.   0.   0.   0.   0.   0.   0.   0.   0.   0.  85. 254. 254. 146.   0.   0.   0.   0.   0.   0.   0.   0.   0.]\n",
      " [  0.   0.   0.   0.   0.   0.   0.   0.   0.   0.   0.   0.   0.   0.  81. 222. 254. 210.  21.   0.   0.   0.   0.   0.   0.   0.   0.   0.]\n",
      " [  0.   0.   0.   0.   0.   0.   0.   0.   0.   0.   0.   0.   0.  89. 245. 253. 214.  29.   0.   0.   0.   0.   0.   0.   0.   0.   0.   0.]\n",
      " [  0.   0.   0.   0.   0.   0.   0.   0.   0.   0.   0.   0.  26. 239. 253. 219.  25.   0.   0.   0.   0.   0.   0.   0.   0.   0.   0.   0.]\n",
      " [  0.   0.   0.   0.   0.   0.   0.   0.   0.   0.   0.  51. 254. 254. 214.  25.   0.   0.   0.   0.   0.   0.   0.   0.   0.   0.   0.   0.]\n",
      " [  0.   0.   0.   0.   0.   0.   0.   0.   0.   9.  97. 247. 254. 227.  46.   0.   0.   0.   0.   0.   0.   0.   0.   0.   0.   0.   0.   0.]\n",
      " [  0.   0.   0.   0.   0.   0.   0.   0.   7.  99. 253. 253. 214.  29.   0.   0.   0.   0.   0.   0.   0.   0.   0.   0.   0.   0.   0.   0.]\n",
      " [  0.   0.   0.   0.   0.   0.   0.   0. 104. 253. 253. 219.  25.   0.   0.   0.   0.   0.   0.   0.   0.   0.   0.   0.   0.   0.   0.   0.]\n",
      " [  0.   0.   0.   0.   0.   0.   0.  85. 255. 254. 146.   0.   0.   0.   0.   0.   0.   0.   0.   0.   0.   0.   0.   0.   0.   0.   0.   0.]\n",
      " [  0.   0.   0.   0.   0.   0. 106. 247. 241. 139.   4.   0.   0.   0.   0.   0.   0.   0.   0.   0.   0.   0.   0.   0.   0.   0.   0.   0.]\n",
      " [  0.   0.   0.   0.   0.   0. 157. 253. 142.   0.   0.   0.   0.   0.   0.   0.   0.   0.   0.   0.   0.   0.   0.   0.   0.   0.   0.   0.]\n",
      " [  0.   0.   0.   0.   0.   0. 174. 219.  25.   0.   0.   0.   0.   0.   0.   0.   0.   0.   0.   0.   0.   0.   0.   0.   0.   0.   0.   0.]\n",
      " [  0.   0.   0.   0.   0.   0.   0.   0.   0.   0.   0.   0.   0.   0.   0.   0.   0.   0.   0.   0.   0.   0.   0.   0.   0.   0.   0.   0.]]\n",
      "\n",
      "And its corresponding label:\t 7\n",
      "\n",
      "--- Train Dataset Distribution ---\n",
      "Digits:\t\t\t [0 1 2 3 4 5 6 7 8 9]\n",
      "Count per digit:\t [5923 6742 5958 6131 5842 5421 5918 6265 5851 5949]\n",
      "Average sample size:\t 6000.00\n",
      "Maximum sample size:\t 6742\n",
      "Minimum sample size:\t 5421\n",
      "\n",
      "--- Test Dataset Distribution ---\n",
      "Digits:\t\t\t [0 1 2 3 4 5 6 7 8 9]\n",
      "Count per digit:\t [ 980 1135 1032 1010  982  892  958 1028  974 1009]\n",
      "Average sample size:\t 1000.00\n",
      "Maximum sample size:\t 1135\n",
      "Minimum sample size:\t 892\n"
     ]
    },
    {
     "data": {
      "image/png": "[encoded data removed]",
      "text/plain": [
       "<Figure size 640x480 with 1 Axes>"
      ]
     },
     "metadata": {},
     "output_type": "display_data"
    },
    {
     "data": {
      "image/png": "[encoded data removed]",
      "text/plain": [
       "<Figure size 640x480 with 1 Axes>"
      ]
     },
     "metadata": {},
     "output_type": "display_data"
    }
   ],
   "source": [
    "# Load the MNIST dataset, which is a large database of handwritten digits.\n",
    "# The function returns two tuples: one for training data and one for testing data.\n",
    "# Recalling, a Tuple is a collection of objects that are ordered and immutable.\n",
    "(X_train, Y_train), (X_test, Y_test) = mnist.load_data()\n",
    "\n",
    "# First we convert the data to float32, which helps with numerical stability. A float32 provides sufficient precision, while also being memory efficient.\n",
    "# Most modern CPU's and GPU's are optimized for float32 operations, making computations faster.\n",
    "X_train = X_train.astype(\"float32\")\n",
    "X_test = X_test.astype(\"float32\")\n",
    "\n",
    "# Then we convert the training data to have a channel dimension, which is required for CNNs.\n",
    "X_train = X_train[..., tf.newaxis] # Add the channel dimension\n",
    "X_test = X_test[..., tf.newaxis] # Add the channel dimension\n",
    "print(f\"New shape for X_train for CNN's: {X_train.shape}\")\n",
    "print(f\"New shape for X_test for CNN's: {X_test.shape}\")\n",
    "\n",
    "# Declare the types of the loaded data for clarity.\n",
    "X_train: NDArray[np.float32]\n",
    "Y_train: NDArray[np.uint8]\n",
    "X_test: NDArray[np.float32]\n",
    "Y_test: NDArray[np.uint8]\n",
    "\n",
    "# We set the line width to a large value to avoid line breaks when printing the array.\n",
    "with np.printoptions(linewidth=10000):\n",
    "    # Print the shapes of the datasets to understand their dimensions.\n",
    "    print(\"Shape of X_train:\\t\", X_train.shape)\n",
    "    print(\"Shape of X_test:\\t\", X_test.shape)\n",
    "    print(\"Shape of Y_train:\\t\", Y_train.shape)\n",
    "    print(\"Shape of Y_test:\\t\", Y_test.shape)\n",
    "    print(f\"X_train data type: {X_train.dtype}\")\n",
    "    print(f\"X_test data type: {X_test.dtype}\")\n",
    "    print(f\"Y_train data type: {Y_train.dtype}\")\n",
    "    print(f\"Y_test data type: {Y_test.dtype}\")\n",
    "\n",
    "    # Inspect a single data sample to see what it looks like.\n",
    "    n: int = 567\n",
    "    print(f\"\\nX_train data {n}-th element (a 28x28 pixel image):\\n\", np.squeeze(X_train[n]))\n",
    "    print(\"\\nAnd its corresponding label:\\t\", Y_train[n])\n",
    "\n",
    "    # TODO: For using this data in a neural network,\n",
    "    # Tensorflow/Keras expects the input data to be in a 1D or 2D array format where each row represents a single sample and each column represents a feature. The general format for the input shape is: (batch_size, feature_1, feature_2, ...)\n",
    "    # However, we can use the tf.keras.layers.Flatten layer as the first layer in our sequential model.\n",
    "    # This layer automatically flattens the input shape without the need for manual reshaping of our data.\n",
    "    # For a Dense (fully connected) network: We must flatten each 28x28 image into a single 1D array of 784 pixels. The input shape for the first layer of our model would then be (None, 784), where None represents a variable batch size.\n",
    "    # For a Convolutional Neural Network (CNN): We must add a channel dimension. Since the images are grayscale, there is only one channel. We would reshape the data to (number_of_images, 28, 28, 1). The input shape for the first layer (typically a Conv2D layer) would be (28, 28, 1). The batch size is handled automatically by Keras.\n",
    "    # Scaling can also be performd in the model using a tf.keras.layers.Rescaling or keras.layers.Normalization layer as the first layer in our sequential model.\n",
    "    # The advantage of using these layers is that they integrate seamlessly into the model architecture, ensuring that the data is preprocessed consistently during both training and inference.\n",
    "    # This approach also simplifies the code by reducing the need for separate preprocessing steps outside the model definition.\n",
    "    # And, it ensures that inference data is processed in the same way as training data, which is crucial for maintaining model performance.\n",
    "\n",
    "    # Analyze the distribution of the digits in the training set.\n",
    "    # `np.unique` finds the unique digit labels and `return_counts=True` counts their occurrences.\n",
    "    dataset_train_distribution: Tuple[np.ndarray, np.ndarray] = np.unique(Y_train, return_counts=True)\n",
    "    digits_train: np.ndarray = dataset_train_distribution[0]\n",
    "    counts_train: np.ndarray = dataset_train_distribution[1]\n",
    "    \n",
    "    print(\"\\n--- Train Dataset Distribution ---\")\n",
    "    print(\"Digits:\\t\\t\\t\", digits_train)\n",
    "    print(\"Count per digit:\\t\", counts_train)\n",
    "    \n",
    "    # Calculate basic statistics on the distribution.\n",
    "    avg: float = np.mean(counts_train)\n",
    "    print(f\"Average sample size:\\t {avg:.2f}\")\n",
    "    \n",
    "    max_count_train: np.int64 = np.max(counts_train)\n",
    "    min_count_train: np.int64 = np.min(counts_train)\n",
    "    print(f\"Maximum sample size:\\t {max_count_train}\")\n",
    "    print(f\"Minimum sample size:\\t {min_count_train}\")\n",
    "\n",
    "\n",
    "    dataset_test_distribution: Tuple[np.ndarray, np.ndarray] = np.unique(Y_test, return_counts=True)\n",
    "    digits_test: np.ndarray = dataset_test_distribution[0]\n",
    "    counts_test: np.ndarray = dataset_test_distribution[1]\n",
    "    \n",
    "    print(\"\\n--- Test Dataset Distribution ---\")\n",
    "    print(\"Digits:\\t\\t\\t\", digits_test)\n",
    "    print(\"Count per digit:\\t\", counts_test)\n",
    "    \n",
    "    # Calculate basic statistics on the distribution.\n",
    "    avg: float = np.mean(counts_test)\n",
    "    print(f\"Average sample size:\\t {avg:.2f}\")\n",
    "    \n",
    "    max_count_test: np.int64 = np.max(counts_test)\n",
    "    min_count_test: np.int64 = np.min(counts_test)\n",
    "    print(f\"Maximum sample size:\\t {max_count_test}\")\n",
    "    print(f\"Minimum sample size:\\t {min_count_test}\")\n",
    "\n",
    "# Create a bar chart from the counts and digits to visualize the distribution.\n",
    "plt.bar(digits_train, counts_train, color='blue', edgecolor='black')\n",
    "\n",
    "# Set the title and labels for clarity.\n",
    "plt.title('Count of Each Digit in Training Set')\n",
    "plt.xlabel('Digits')\n",
    "plt.ylabel('Count')\n",
    "\n",
    "# Set x-ticks to be at the center of each bar and label them with the digit.\n",
    "# Minor ticks are used here to place the labels directly under the bars.\n",
    "# Ticks specify the positions on the x-axis where the labels should be placed.\n",
    "# By setting ticks=digits_train, we ensure that each digit (0-9) is labeled correctly under its corresponding bar.\n",
    "plt.xticks(ticks=digits_train, minor=True, labels=digits_train)\n",
    "\n",
    "# Add a grid for better readability.\n",
    "plt.grid(axis='y', linestyle='--', alpha=0.7)\n",
    "\n",
    "# Display the plot.\n",
    "plt.show()\n",
    "\n",
    "# And the same bar chart for the test set.\n",
    "\n",
    "# Create a bar chart from the counts and digits to visualize the distribution.\n",
    "plt.bar(digits_test, counts_test, color='red', edgecolor='black')\n",
    "\n",
    "# Set the title and labels for clarity.\n",
    "plt.title('Count of Each Digit in Test Set')\n",
    "plt.xlabel('Digits')\n",
    "plt.ylabel('Count')\n",
    "\n",
    "# Set x-ticks to be at the center of each bar and label them with the digit.\n",
    "plt.xticks(ticks=digits_test, minor=True, labels=digits_test)\n",
    "\n",
    "# Add a grid for better readability.\n",
    "plt.grid(axis='y', linestyle='--', alpha=0.7)\n",
    "\n",
    "# Display the plot.\n",
    "plt.show()"
   ]
  },
  {
   "cell_type": "markdown",
   "id": "899d4acf",
   "metadata": {},
   "source": [
    "## Dataset Analysis\n",
    "\n",
    "The content and size of the training and testing datasets align with the description on the Kaggle MNIST dataset page, Hojjat, F. (2017). MNIST: The Most Famous Dataset in the World. Kaggle. Retrieved August 28, 2025, from https://www.kaggle.com/datasets/hojjatk/mnist-dataset. The plot of digit distribution shows a fairly homogeneous representation across all classes (digits 0 through 9). While the digit '1' is slightly oversampled and the digit '5' is slightly undersampled, the class imbalance is not significant enough to warrant further action for this assessment.\n",
    "\n",
    "In a scenario where the distribution were to be significantly imbalanced and we needed to make it more homogeneous, we would use a technique called **resampling**. Resampling involves adjusting the distribution of the training data to be more balanced. There are two primary types:\n",
    "\n",
    "- **Oversampling** involves duplicating samples from the underrepresented classes to increase their frequency.\n",
    "\n",
    "- **Undersampling** involves removing samples from the overrepresented classes to reduce their frequency."
   ]
  },
  {
   "cell_type": "markdown",
   "id": "e5568184",
   "metadata": {},
   "source": [
    "## Part 1, Task 1: Creating a simple Multilayer Perceptron (MLP) neural network\n",
    "\n",
    "The code below defines our base model.\n",
    "\n",
    "To experiment with different architectures or tune its hyperparameters, we simply copy this entire cell and make our changes.\n",
    "\n",
    "We need to make sure to give each new model a unique name. This ensures that when the ModelCheckpoint callback saves the best-performing version during training, the filename will be clear and identifiable."
   ]
  },
  {
   "cell_type": "code",
   "execution_count": 3,
   "id": "b401b847",
   "metadata": {},
   "outputs": [],
   "source": [
    "# --- Set Seeds for Reproducibility ---\n",
    "\n",
    "# This sets the global random seed for all TensorFlow operations.\n",
    "# It ensures that things like model weight initialisation are the same every time.\n",
    "# `tf.random.set_seed()` is the modern way to do this in TensorFlow 2.\n",
    "tf.random.set_seed(1)\n",
    "\n",
    "# This sets the random seed for all NumPy operations.\n",
    "# This is important if we are creating our data using NumPy or using any\n",
    "# NumPy functions that involve randomness.\n",
    "np.random.seed(23)"
   ]
  },
  {
   "cell_type": "code",
   "execution_count": 4,
   "id": "765eac04",
   "metadata": {},
   "outputs": [],
   "source": [
    "# **Task 1**\n",
    "\n",
    "# Build a neural network without convolutional layers to do the classification task (hint: you will need the use of dense layers). \n",
    "# Then you can change the model structure (i.e. number of dense layers, number of neurons in dense layers or activation functions) to be able to improve network performance.\n",
    "\n",
    "def create_mlp_model_base() -> Sequential:\n",
    "    \"\"\"\n",
    "    Defines and returns the (base) MLP model architecture.\n",
    "    \"\"\"\n",
    "    # Note: we can change the model architecture here. However, it is more prudent to save the model parameters first, and then change it. \n",
    "    model = Sequential([\n",
    "        # We use the implicit input_shape here for a cleaner look.\n",
    "        Input(shape=(28, 28, 1)),\n",
    "        Normalization(),\n",
    "        Flatten(),\n",
    "        Dense(units=32, activation='relu'), # Relu is the goto activation function. We could also use LeakyRelu, tanh, sigmoid, etc.\n",
    "        Dense(units=64, activation='relu'),\n",
    "        Dense(units=32, activation='relu'),\n",
    "        Dense(units=10, activation='softmax')\n",
    "    ], name = \"Base_MLP_Model\")\n",
    "    return model"
   ]
  },
  {
   "cell_type": "code",
   "execution_count": 5,
   "id": "1216af8f",
   "metadata": {},
   "outputs": [],
   "source": [
    "def create_mlp_model_2() -> Sequential:\n",
    "    \"\"\"\n",
    "    Defines and returns the (base) MLP model architecture.\n",
    "    \"\"\"\n",
    "    model = Sequential([\n",
    "        # We use the implicit input_shape here for a cleaner look.\n",
    "        Input(shape=(28, 28, 1)),\n",
    "        Normalization(),\n",
    "        Flatten(),\n",
    "        Dense(units=64, activation='relu'), # Relu is the goto activation function. We could also use LeakyRelu, tanh, sigmoid, etc.\n",
    "        Dense(units=128, activation='relu'),\n",
    "        Dense(units=64, activation='relu'),\n",
    "        Dense(units=10, activation='softmax')\n",
    "    ], name = \"Base_MLP_Model_2\")\n",
    "    return model"
   ]
  },
  {
   "cell_type": "code",
   "execution_count": 6,
   "id": "361f3d8a",
   "metadata": {},
   "outputs": [],
   "source": [
    "# This is our first \"base\" model we created. Repeated here, because it yielded very good accuracies on both validate and test data, as well as loss. \n",
    "def create_mlp_model_3() -> Sequential:\n",
    "    \"\"\"\n",
    "    Defines and returns the (base) MLP model architecture.\n",
    "    \"\"\"\n",
    "    model = Sequential([\n",
    "        # We use the implicit input_shape here for a cleaner look.\n",
    "        Input(shape=(28, 28, 1)),\n",
    "        Normalization(),\n",
    "        Flatten(),\n",
    "        Dense(units=128, activation='relu'), # Relu is the goto activation function. We could also use LeakyRelu, \n",
    "        Dense(units=256, activation='relu'),\n",
    "        Dense(units=64, activation='relu'),\n",
    "        Dense(units=10, activation='softmax')\n",
    "    ], name = \"Base_MLP_Model_3\")\n",
    "    return model"
   ]
  },
  {
   "cell_type": "code",
   "execution_count": 7,
   "id": "954def66",
   "metadata": {},
   "outputs": [],
   "source": [
    "def create_mlp_model_wide() -> Sequential:\n",
    "    \"\"\"\n",
    "    Defines and returns the (base) MLP model architecture.\n",
    "    \"\"\"\n",
    "    # Note: we can change the model architecture here. However, it is more prudent to save the model parameters first, and then change it. \n",
    "    model = Sequential([\n",
    "        # We use the implicit input_shape here for a cleaner look.\n",
    "        Input(shape=(28, 28, 1)),\n",
    "        Normalization(),\n",
    "        Flatten(),\n",
    "        Dense(units=512, activation='relu'),\n",
    "        Dense(units=1024, activation='relu'),\n",
    "        Dense(units=256, activation='relu'),\n",
    "        Dense(units=10, activation='softmax')\n",
    "    ], name = \"Wide_MLP_Model\")\n",
    "    return model"
   ]
  },
  {
   "cell_type": "code",
   "execution_count": 8,
   "id": "6283beed",
   "metadata": {},
   "outputs": [],
   "source": [
    "def create_mlp_model_deep() -> Sequential:\n",
    "    \"\"\"\n",
    "    Defines and returns the (base) MLP model architecture.\n",
    "    \"\"\"\n",
    "    # Note: we can change the model architecture here. However, it is more prudent to save the model parameters first, and then change it. \n",
    "    model = Sequential([\n",
    "        # We use the implicit input_shape here for a cleaner look.\n",
    "        Input(shape=(28, 28, 1)),\n",
    "        Normalization(),\n",
    "        Flatten(),\n",
    "        Dense(units=128, activation='relu'),\n",
    "        Dense(units=256, activation='relu'),\n",
    "        Dense(units=256, activation='relu'),\n",
    "        Dense(units=256, activation='relu'),\n",
    "        Dense(units=256, activation='relu'),\n",
    "        Dense(units=64, activation='relu'),\n",
    "        Dense(units=32, activation='relu'),\n",
    "        Dense(units=10, activation='softmax')\n",
    "    ], name=\"Deep_MLP_Model\")\n",
    "    return model"
   ]
  },
  {
   "cell_type": "code",
   "execution_count": 9,
   "id": "3a924894",
   "metadata": {},
   "outputs": [],
   "source": [
    "# All MLP models:\n",
    "mlp_model_functions = [\n",
    "create_mlp_model_base,\n",
    "create_mlp_model_2,\n",
    "create_mlp_model_3,\n",
    "create_mlp_model_wide,\n",
    "create_mlp_model_deep,\n",
    "]\n",
    "\n",
    "# # Only a single model:\n",
    "# mlp_model_functions = [\n",
    "# create_mlp_model_3,\n",
    "# ]\n"
   ]
  },
  {
   "cell_type": "markdown",
   "id": "fcc8c4cf",
   "metadata": {},
   "source": [
    "### Define the training loop\n",
    "\n",
    "The 'run_experiment' function is our main pipeline for training a neural network.\n",
    "It encapsulates all the necessary steps: creating the model, setting hyperparameters,\n",
    "configuring callbacks for logging and monitoring, and finally training the model.\n",
    "This makes our code highly modular and reusable, allowing us to easily run different\n",
    "experiments by simply changing the input parameters."
   ]
  },
  {
   "cell_type": "code",
   "execution_count": 10,
   "id": "025ee811",
   "metadata": {},
   "outputs": [],
   "source": [
    "# The 'run_experiment' function is our main pipeline for training a neural network.\n",
    "# It encapsulates all the necessary steps: creating the model, setting hyperparameters,\n",
    "# configuring callbacks for logging and monitoring, and finally training the model.\n",
    "# This makes our code highly modular and reusable, allowing us to easily run different\n",
    "# experiments by simply changing the input parameters.\n",
    "\n",
    "def run_experiment(model_creation_func, hyperparameters, parent_folder, X_train, Y_train):\n",
    "    \"\"\"\n",
    "    Runs a full training experiment for a given model architecture and hyperparameter set.\n",
    "    \"\"\"\n",
    "    # First, we create an instance of our model by calling the function passed as an argument.\n",
    "    # This design allows us to use the same training pipeline for different model architectures.\n",
    "    model = model_creation_func()\n",
    "\n",
    "    # We set default values for hyperparameters. This is a good practice to ensure the\n",
    "    # function can run even if a specific hyperparameter isn't provided in the dictionary.\n",
    "    default_lr = 0.001\n",
    "    default_optimiser = 'adam'\n",
    "    default_batch_size = 64\n",
    "    default_epochs = 10\n",
    "    \n",
    "    # We check if the model has a name and assign one based on the creation function if it doesn't.\n",
    "    # This helps in uniquely identifying our experiments in the log files.\n",
    "    if model.name is None or model.name == \"\":\n",
    "        model.name = model_creation_func.__name__\n",
    "\n",
    "    # --- Adapt the Normalisation Layer ---\n",
    "    print(\"\\nAdapting the normalisation layer...\")\n",
    "    # The 'adapt' method is a crucial step for preprocessing layers like Normalization.\n",
    "    # It calculates the mean and variance of the training data. This is done here,\n",
    "    # before training begins, to ensure the layer is ready to normalize our data.\n",
    "    model.layers[0].adapt(X_train)\n",
    "    print(\"Adaptation complete.\\n\")\n",
    "\n",
    "    print(f\"\\n--- Starting Experiment: {model.name} ---\")\n",
    "\n",
    "    # We print a summary of the model's architecture. This is very useful for debugging\n",
    "    # and verifying that the layers and parameter counts are as expected.\n",
    "    print(\"\\n--- Model Architecture ---\")\n",
    "    model.summary()\n",
    "    # Generate the model's diagram as an image file\n",
    "    # plot_model(model, to_file=f'{model.name}_architecture.png', show_shapes=True, show_layer_names=True)\n",
    "\n",
    "    # We also print the hyperparameters used in this specific run.\n",
    "    print(\"\\n--- Hyperparameters ---\")\n",
    "    for key, value in hyperparameters.items():\n",
    "        # The '<20' is an f-string formatting option that ensures the keys are left-aligned\n",
    "        # and take up 20 characters, creating a neat, aligned output.\n",
    "        print(f\"{key:<20}: {value}\")\n",
    "\n",
    "    # --- Initialise WandB Run and Callbacks ---\n",
    "    # We start a new Weights & Biases (WandB) run here. WandB is an online platform\n",
    "    # for tracking machine learning experiments. We specify the project name, a unique\n",
    "    # run name, and the hyperparameters we want to log.\n",
    "    # The `dir` parameter is commented out to prevent local log file saving, as requested.\n",
    "    run_name = f\"{model.name}-lr_{hyperparameters.get('learning_rate', default_lr)}-bs_{hyperparameters.get('batch_size', default_batch_size)}-{datetime.datetime.now().strftime('%Y%m%d-%H%M%S')}\"\n",
    "    # We can uncomment the two lines below and the dir=local_log_dir to save the wandB log files locally. \n",
    "    # local_log_dir = os.path.join(os.getcwd(), \"wandb\")\n",
    "    # os.makedirs(local_log_dir, exist_ok=True)\n",
    "\n",
    "    run = wandb.init(\n",
    "        project=\"CSE5ML-Assessment2\",\n",
    "        name=run_name,\n",
    "        config=hyperparameters,\n",
    "        # dir=local_log_dir,\n",
    "    )\n",
    "\n",
    "    log_dir = os.path.join(parent_folder, \"logs\", model.name, datetime.datetime.now().strftime(\"%Y%m%d-%H%M%S\"))\n",
    "    # The Tensorboard callback is now commented out to disable local logging to Tensorboard.\n",
    "    # tensorboard_callback = TensorBoard(log_dir=log_dir, histogram_freq=1)\n",
    "    \n",
    "    # We create an instance of WandbMetricsLogger. This is a Keras callback that\n",
    "    # automatically logs training metrics (like loss and accuracy) to our WandB run.\n",
    "    wandb_metrics_logger = WandbMetricsLogger()\n",
    "\n",
    "    # --- Configure the Optimiser ---\n",
    "    # The 'optimiser' is the algorithm that updates the network's weights during training\n",
    "    # to minimize the loss. We retrieve the name and learning rate from the hyperparameters.\n",
    "    optimiser_name = hyperparameters.get('optimiser', default_optimiser).lower()\n",
    "    learning_rate = hyperparameters.get('learning_rate', default_lr)\n",
    "\n",
    "    # We use an if/elif block to select the correct optimiser object.\n",
    "    # Using the object directly (e.g., `Adam()`) allows the learning rate to be\n",
    "    # explicitly set and logged, unlike when we just pass a string like 'adam'.\n",
    "    if optimiser_name == 'adam':\n",
    "        optimiser = Adam(learning_rate=learning_rate)\n",
    "    elif optimiser_name == 'sgd':\n",
    "        optimiser = SGD(learning_rate=learning_rate)\n",
    "    else:\n",
    "        optimiser = optimiser_name\n",
    "\n",
    "    # --- Configure the ModelCheckpoint Callback ---\n",
    "    # This callback saves the model's weights to a local file.\n",
    "    # We configure it to only save the 'best' version of the model, based on validation accuracy.\n",
    "    model_specific_folder = os.path.join(parent_folder, model.name)\n",
    "    os.makedirs(model_specific_folder, exist_ok=True)\n",
    "    filepath = os.path.join(model_specific_folder, 'best_model_epoch-{epoch:02d}_val_acc-{val_accuracy:.4f}.keras')\n",
    "    checkpoint = ModelCheckpoint(\n",
    "        filepath=filepath,\n",
    "        monitor='val_accuracy',\n",
    "        mode='max',\n",
    "        save_best_only=True,\n",
    "        verbose=1\n",
    "    )\n",
    "\n",
    "\n",
    "    # --- Add the WandBModelCheckpoint Callback ---\n",
    "    # This is a special callback that saves the model directly to the WandB cloud.\n",
    "    # It ensures that our best-performing model is always backed up online.\n",
    "    wandb_checkpoint = WandbModelCheckpoint(\n",
    "        filepath=f\"wandb_models/{model.name}\",\n",
    "        monitor='val_accuracy',\n",
    "        mode='max',\n",
    "        save_best_only=True,\n",
    "        verbose=1\n",
    "    )\n",
    "\n",
    "\n",
    "    # Configure the EarlyStopping callback\n",
    "    # This is a powerful technique to prevent overfitting and save training time.\n",
    "    # It monitors a metric (like validation accuracy) and stops training if that\n",
    "    # metric doesn't improve for a certain number of epochs ('patience').\n",
    "    early_stopping = EarlyStopping(\n",
    "        monitor='val_accuracy',\n",
    "        patience=10,\n",
    "        restore_best_weights=True\n",
    "    )\n",
    "\n",
    "    # --- Compile the Model ---\n",
    "    # This is a crucial step where we configure the model for training.\n",
    "    # We specify the optimizer, the loss function (which measures the model's error),\n",
    "    # and the metrics (which we use to evaluate its performance, like accuracy).\n",
    "    model.compile(\n",
    "        optimizer=optimiser,\n",
    "        loss=hyperparameters.get('loss_function', 'sparse_categorical_crossentropy'),\n",
    "        metrics=['accuracy']\n",
    "    )\n",
    "\n",
    "    # --- Train the Model ---\n",
    "    # The 'model.fit()' method is where the actual training happens.\n",
    "    # We pass in our training data, the number of epochs to run, and the batch size.\n",
    "    # The 'callbacks' list is essential, as it contains all the special functions\n",
    "    # (like our WandB and early stopping callbacks) that are executed during training.\n",
    "    history = model.fit(\n",
    "        X_train,\n",
    "        Y_train,\n",
    "        epochs=hyperparameters.get('epochs', default_epochs),\n",
    "        batch_size=hyperparameters.get('batch_size', default_batch_size),\n",
    "        validation_split=0.1,\n",
    "        callbacks=[checkpoint, wandb_metrics_logger, wandb_checkpoint, early_stopping],\n",
    "        verbose=1\n",
    "    )\n",
    "    # We attach the hyperparameters to the history object. This is a simple but effective\n",
    "    # way to keep a record of the settings used for each training run.\n",
    "    history.hyperparameters = hyperparameters\n",
    "\n",
    "    # After training, we find the peak performance from the validation accuracy history.\n",
    "    val_accuracies = history.history['val_accuracy']\n",
    "    best_validation_accuracy = max(val_accuracies)\n",
    "    best_epoch = val_accuracies.index(best_validation_accuracy) + 1\n",
    "    associated_train_acc = history.history['accuracy'][best_epoch - 1]\n",
    "\n",
    "    print(\"\\n--- Peak Performance Summary ---\")\n",
    "    print(f\"{'Best validation accuracy:':<35} {best_validation_accuracy:.4f}\")\n",
    "    print(f\"{'Associated training accuracy:':<35} {associated_train_acc:.4f}\")\n",
    "    print(f\"{'Occurred at epoch:':<35} {best_epoch}\")\n",
    "\n",
    "    return history"
   ]
  },
  {
   "cell_type": "code",
   "execution_count": 11,
   "id": "9b8dfb5c",
   "metadata": {},
   "outputs": [],
   "source": [
    "# In the cell above, we store all the models, run history, and hyperparameters in the Wandb cloud platform.\n",
    "# The function below can be used to pull all that data from the cloud and store it locally. \n",
    "# This can be useful if we want to analyse it with python. E.g., plotting the accuracy and losses locally, rather than in the cloud with limited customisation tools. \n",
    "\n",
    "def pull_wandb_data(project_name, local_dir):\n",
    "    \"\"\"\n",
    "    Pulls all runs, models, and artifacts from a WandB project\n",
    "    and stores them locally, using the run's expressive name for the folder.\n",
    "\n",
    "    Args:\n",
    "        project_name (str): The name of the WandB project.\n",
    "        local_dir (str): The local directory to save the data.\n",
    "    \"\"\"\n",
    "    print(f\"Connecting to WandB project: {project_name}\")\n",
    "    api = wandb.Api()\n",
    "    \n",
    "    try:\n",
    "        user_name = api.default_entity\n",
    "    except wandb.errors.CommError:\n",
    "        print(\"Error: Could not retrieve WandB username. Make sure you are logged in.\")\n",
    "        return\n",
    "        \n",
    "    os.makedirs(local_dir, exist_ok=True)\n",
    "    \n",
    "    runs = api.runs(f\"{user_name}/{project_name}\")\n",
    "    \n",
    "    print(f\"Found {len(runs)} runs for user: {user_name}. Downloading data...\")\n",
    "\n",
    "    for run in runs:\n",
    "        # --- Fix: Create a clean, expressive folder name ---\n",
    "        # 1. Start with the expressive run name.\n",
    "        run_folder_name = run.name\n",
    "        \n",
    "        # 2. Sanitize the name to remove any characters that are invalid for file paths.\n",
    "        sanitized_run_name = re.sub(r'[\\\\/:*?\"<>|]', '_', run_folder_name)\n",
    "        \n",
    "        # 3. We no longer append the unique run ID, since the timestamp already ensures uniqueness.\n",
    "        final_folder_name = sanitized_run_name\n",
    "        \n",
    "        # Construct the full path for the run's local directory.\n",
    "        run_dir = os.path.join(local_dir, final_folder_name)\n",
    "        os.makedirs(run_dir, exist_ok=True)\n",
    "        \n",
    "        # Download all files associated with the run\n",
    "        for file in run.files():\n",
    "            file.download(root=run_dir)\n",
    "            \n",
    "        print(f\"Downloaded files for run: {final_folder_name}\")\n",
    "\n",
    "        # Download artifacts (including models)\n",
    "        for artifact in run.logged_artifacts():\n",
    "            print(f\"Downloading artifact: {artifact.name}\")\n",
    "            \n",
    "            sanitized_artifact_name = re.sub(r'[\\\\/:*?\"<>|]', '_', artifact.name)\n",
    "            \n",
    "            artifact_dir = os.path.join(run_dir, \"artifacts\", sanitized_artifact_name)\n",
    "            os.makedirs(artifact_dir, exist_ok=True)\n",
    "            artifact.download(root=artifact_dir)\n",
    "\n",
    "    print(\"Download complete.\")"
   ]
  },
  {
   "cell_type": "code",
   "execution_count": 12,
   "id": "e8136149",
   "metadata": {},
   "outputs": [
    {
     "name": "stdout",
     "output_type": "stream",
     "text": [
      "Connecting to WandB project: CSE5ML-Assessment2\n"
     ]
    },
    {
     "name": "stderr",
     "output_type": "stream",
     "text": [
      "\u001b[34m\u001b[1mwandb\u001b[0m: Currently logged in as: \u001b[33mtim-vos-nl\u001b[0m (\u001b[33mtim-vos-nl-mine\u001b[0m) to \u001b[32mhttps://api.wandb.ai\u001b[0m. Use \u001b[1m`wandb login --relogin`\u001b[0m to force relogin\n"
     ]
    },
    {
     "name": "stdout",
     "output_type": "stream",
     "text": [
      "Found 23 runs for user: tim-vos-nl-mine. Downloading data...\n",
      "Downloaded files for run: Base_MLP_Model-lr_0.01-bs_64-20250913-201958\n",
      "Downloading artifact: run-uqsvjltl-history:v0\n"
     ]
    },
    {
     "name": "stderr",
     "output_type": "stream",
     "text": [
      "\u001b[34m\u001b[1mwandb\u001b[0m:   1 of 1 files downloaded.  \n"
     ]
    },
    {
     "name": "stdout",
     "output_type": "stream",
     "text": [
      "Downloaded files for run: Base_MLP_Model_2-lr_0.01-bs_64-20250913-202129\n",
      "Downloading artifact: run-mmixb0bu-history:v0\n"
     ]
    },
    {
     "name": "stderr",
     "output_type": "stream",
     "text": [
      "\u001b[34m\u001b[1mwandb\u001b[0m:   1 of 1 files downloaded.  \n"
     ]
    },
    {
     "name": "stdout",
     "output_type": "stream",
     "text": [
      "Downloaded files for run: Base_MLP_Model_3-lr_0.01-bs_64-20250913-202407\n",
      "Downloading artifact: run-o2c0rsfg-history:v0\n"
     ]
    },
    {
     "name": "stderr",
     "output_type": "stream",
     "text": [
      "\u001b[34m\u001b[1mwandb\u001b[0m:   1 of 1 files downloaded.  \n"
     ]
    },
    {
     "name": "stdout",
     "output_type": "stream",
     "text": [
      "Downloaded files for run: Wide_MLP_Model-lr_0.01-bs_64-20250913-202738\n",
      "Downloading artifact: run-djvhe57m-history:v0\n"
     ]
    },
    {
     "name": "stderr",
     "output_type": "stream",
     "text": [
      "\u001b[34m\u001b[1mwandb\u001b[0m:   1 of 1 files downloaded.  \n"
     ]
    },
    {
     "name": "stdout",
     "output_type": "stream",
     "text": [
      "Downloaded files for run: Deep_MLP_Model-lr_0.01-bs_64-20250913-203343\n",
      "Downloading artifact: run-a3uuhdiq-history:v0\n"
     ]
    },
    {
     "name": "stderr",
     "output_type": "stream",
     "text": [
      "\u001b[34m\u001b[1mwandb\u001b[0m:   1 of 1 files downloaded.  \n"
     ]
    },
    {
     "name": "stdout",
     "output_type": "stream",
     "text": [
      "Downloaded files for run: Base_CNN-lr_0.01-bs_64-20250913-203805\n",
      "Downloading artifact: run-udly12ig-history:v0\n"
     ]
    },
    {
     "name": "stderr",
     "output_type": "stream",
     "text": [
      "\u001b[34m\u001b[1mwandb\u001b[0m:   1 of 1 files downloaded.  \n"
     ]
    },
    {
     "name": "stdout",
     "output_type": "stream",
     "text": [
      "Downloaded files for run: CNN_with_Dropout-lr_0.01-bs_64-20250913-204226\n",
      "Downloading artifact: run-rtnitz75-history:v0\n"
     ]
    },
    {
     "name": "stderr",
     "output_type": "stream",
     "text": [
      "\u001b[34m\u001b[1mwandb\u001b[0m:   1 of 1 files downloaded.  \n"
     ]
    },
    {
     "name": "stdout",
     "output_type": "stream",
     "text": [
      "Downloaded files for run: Wide_CNN_Model-lr_0.01-bs_64-20250913-204620\n",
      "Downloading artifact: run-qr20oiis-history:v0\n"
     ]
    },
    {
     "name": "stderr",
     "output_type": "stream",
     "text": [
      "\u001b[34m\u001b[1mwandb\u001b[0m:   1 of 1 files downloaded.  \n"
     ]
    },
    {
     "name": "stdout",
     "output_type": "stream",
     "text": [
      "Downloaded files for run: Deep_CNN_Model_Padded-lr_0.01-bs_64-20250913-205629\n",
      "Downloading artifact: run-8pydxevq-history:v0\n"
     ]
    },
    {
     "name": "stderr",
     "output_type": "stream",
     "text": [
      "\u001b[34m\u001b[1mwandb\u001b[0m:   1 of 1 files downloaded.  \n"
     ]
    },
    {
     "name": "stdout",
     "output_type": "stream",
     "text": [
      "Downloaded files for run: Base_MLP_Model-lr_0.001-bs_64-20250914-124529\n",
      "Downloaded files for run: Base_MLP_Model_2-lr_0.001-bs_64-20250914-124808\n",
      "Downloading artifact: run-01slt56e-history:v0\n"
     ]
    },
    {
     "name": "stderr",
     "output_type": "stream",
     "text": [
      "\u001b[34m\u001b[1mwandb\u001b[0m:   1 of 1 files downloaded.  \n"
     ]
    },
    {
     "name": "stdout",
     "output_type": "stream",
     "text": [
      "Downloading artifact: run-01slt56e-events:v0\n"
     ]
    },
    {
     "name": "stderr",
     "output_type": "stream",
     "text": [
      "\u001b[34m\u001b[1mwandb\u001b[0m:   1 of 1 files downloaded.  \n"
     ]
    },
    {
     "name": "stdout",
     "output_type": "stream",
     "text": [
      "Downloaded files for run: Base_MLP_Model_3-lr_0.001-bs_64-20250914-125321\n",
      "Downloading artifact: run-liyal5nl-events:v0\n"
     ]
    },
    {
     "name": "stderr",
     "output_type": "stream",
     "text": [
      "\u001b[34m\u001b[1mwandb\u001b[0m:   1 of 1 files downloaded.  \n"
     ]
    },
    {
     "name": "stdout",
     "output_type": "stream",
     "text": [
      "Downloading artifact: run-liyal5nl-history:v0\n"
     ]
    },
    {
     "name": "stderr",
     "output_type": "stream",
     "text": [
      "\u001b[34m\u001b[1mwandb\u001b[0m:   1 of 1 files downloaded.  \n"
     ]
    },
    {
     "name": "stdout",
     "output_type": "stream",
     "text": [
      "Downloaded files for run: Wide_MLP_Model-lr_0.001-bs_64-20250914-130011\n",
      "Downloading artifact: run-jbmstyut-history:v0\n"
     ]
    },
    {
     "name": "stderr",
     "output_type": "stream",
     "text": [
      "\u001b[34m\u001b[1mwandb\u001b[0m:   1 of 1 files downloaded.  \n"
     ]
    },
    {
     "name": "stdout",
     "output_type": "stream",
     "text": [
      "Downloading artifact: run-jbmstyut-events:v0\n"
     ]
    },
    {
     "name": "stderr",
     "output_type": "stream",
     "text": [
      "\u001b[34m\u001b[1mwandb\u001b[0m:   1 of 1 files downloaded.  \n"
     ]
    },
    {
     "name": "stdout",
     "output_type": "stream",
     "text": [
      "Downloaded files for run: Deep_MLP_Model-lr_0.001-bs_64-20250914-131521\n",
      "Downloading artifact: run-bnddn6ka-history:v0\n"
     ]
    },
    {
     "name": "stderr",
     "output_type": "stream",
     "text": [
      "\u001b[34m\u001b[1mwandb\u001b[0m:   1 of 1 files downloaded.  \n"
     ]
    },
    {
     "name": "stdout",
     "output_type": "stream",
     "text": [
      "Downloading artifact: run-bnddn6ka-events:v0\n"
     ]
    },
    {
     "name": "stderr",
     "output_type": "stream",
     "text": [
      "\u001b[34m\u001b[1mwandb\u001b[0m:   1 of 1 files downloaded.  \n"
     ]
    },
    {
     "name": "stdout",
     "output_type": "stream",
     "text": [
      "Downloaded files for run: Base_CNN-lr_0.001-bs_64-20250914-150358\n",
      "Downloading artifact: run-1c2roias-history:v0\n"
     ]
    },
    {
     "name": "stderr",
     "output_type": "stream",
     "text": [
      "\u001b[34m\u001b[1mwandb\u001b[0m:   1 of 1 files downloaded.  \n"
     ]
    },
    {
     "name": "stdout",
     "output_type": "stream",
     "text": [
      "Downloading artifact: run-1c2roias-events:v0\n"
     ]
    },
    {
     "name": "stderr",
     "output_type": "stream",
     "text": [
      "\u001b[34m\u001b[1mwandb\u001b[0m:   1 of 1 files downloaded.  \n"
     ]
    },
    {
     "name": "stdout",
     "output_type": "stream",
     "text": [
      "Downloaded files for run: Base_CNN-lr_0.01-bs_64-20250914-151034\n",
      "Downloading artifact: run-nnzlvd74-history:v0\n"
     ]
    },
    {
     "name": "stderr",
     "output_type": "stream",
     "text": [
      "\u001b[34m\u001b[1mwandb\u001b[0m:   1 of 1 files downloaded.  \n"
     ]
    },
    {
     "name": "stdout",
     "output_type": "stream",
     "text": [
      "Downloading artifact: run-nnzlvd74-events:v0\n"
     ]
    },
    {
     "name": "stderr",
     "output_type": "stream",
     "text": [
      "\u001b[34m\u001b[1mwandb\u001b[0m:   1 of 1 files downloaded.  \n"
     ]
    },
    {
     "name": "stdout",
     "output_type": "stream",
     "text": [
      "Downloaded files for run: Base_CNN-lr_0.001-bs_64-20250914-151621\n",
      "Downloading artifact: run-5xmwa3d8-history:v0\n"
     ]
    },
    {
     "name": "stderr",
     "output_type": "stream",
     "text": [
      "\u001b[34m\u001b[1mwandb\u001b[0m:   1 of 1 files downloaded.  \n"
     ]
    },
    {
     "name": "stdout",
     "output_type": "stream",
     "text": [
      "Downloading artifact: run-5xmwa3d8-events:v0\n"
     ]
    },
    {
     "name": "stderr",
     "output_type": "stream",
     "text": [
      "\u001b[34m\u001b[1mwandb\u001b[0m:   1 of 1 files downloaded.  \n"
     ]
    },
    {
     "name": "stdout",
     "output_type": "stream",
     "text": [
      "Downloaded files for run: CNN_with_Dropout-lr_0.001-bs_64-20250914-153710\n",
      "Downloading artifact: run-4puqc9ll-history:v0\n"
     ]
    },
    {
     "name": "stderr",
     "output_type": "stream",
     "text": [
      "\u001b[34m\u001b[1mwandb\u001b[0m:   1 of 1 files downloaded.  \n"
     ]
    },
    {
     "name": "stdout",
     "output_type": "stream",
     "text": [
      "Downloading artifact: run-4puqc9ll-events:v0\n"
     ]
    },
    {
     "name": "stderr",
     "output_type": "stream",
     "text": [
      "\u001b[34m\u001b[1mwandb\u001b[0m:   1 of 1 files downloaded.  \n"
     ]
    },
    {
     "name": "stdout",
     "output_type": "stream",
     "text": [
      "Downloaded files for run: CNN_with_Dropout-lr_0.01-bs_64-20250914-154602\n",
      "Downloading artifact: run-einfep1e-history:v0\n"
     ]
    },
    {
     "name": "stderr",
     "output_type": "stream",
     "text": [
      "\u001b[34m\u001b[1mwandb\u001b[0m:   1 of 1 files downloaded.  \n"
     ]
    },
    {
     "name": "stdout",
     "output_type": "stream",
     "text": [
      "Downloading artifact: run-einfep1e-events:v0\n"
     ]
    },
    {
     "name": "stderr",
     "output_type": "stream",
     "text": [
      "\u001b[34m\u001b[1mwandb\u001b[0m:   1 of 1 files downloaded.  \n"
     ]
    },
    {
     "name": "stdout",
     "output_type": "stream",
     "text": [
      "Downloaded files for run: CNN_with_Dropout-lr_0.001-bs_64-20250914-155740\n",
      "Downloading artifact: run-xf10xc0b-history:v0\n"
     ]
    },
    {
     "name": "stderr",
     "output_type": "stream",
     "text": [
      "\u001b[34m\u001b[1mwandb\u001b[0m:   1 of 1 files downloaded.  \n"
     ]
    },
    {
     "name": "stdout",
     "output_type": "stream",
     "text": [
      "Downloaded files for run: Wide_CNN_Model-lr_0.001-bs_64-20250914-162255\n",
      "Downloading artifact: run-g508mq5s-history:v0\n"
     ]
    },
    {
     "name": "stderr",
     "output_type": "stream",
     "text": [
      "\u001b[34m\u001b[1mwandb\u001b[0m:   1 of 1 files downloaded.  \n"
     ]
    },
    {
     "name": "stdout",
     "output_type": "stream",
     "text": [
      "Downloaded files for run: Wide_CNN_Model-lr_0.01-bs_64-20250914-163242\n",
      "Downloading artifact: run-4l507vxy-history:v0\n"
     ]
    },
    {
     "name": "stderr",
     "output_type": "stream",
     "text": [
      "\u001b[34m\u001b[1mwandb\u001b[0m:   1 of 1 files downloaded.  \n"
     ]
    },
    {
     "name": "stdout",
     "output_type": "stream",
     "text": [
      "Downloaded files for run: Wide_CNN_Model-lr_0.001-bs_64-20250914-165331\n",
      "Downloading artifact: run-b5y3m0o7-history:v0\n"
     ]
    },
    {
     "name": "stderr",
     "output_type": "stream",
     "text": [
      "\u001b[34m\u001b[1mwandb\u001b[0m:   1 of 1 files downloaded.  \n"
     ]
    },
    {
     "name": "stdout",
     "output_type": "stream",
     "text": [
      "Download complete.\n"
     ]
    }
   ],
   "source": [
    "# We get the current working directory.\n",
    "current_dir = os.getcwd()\n",
    "# We create the parent folder path using os.path.join.\n",
    "parent_folder_name = \"WandB_downloads\"\n",
    "wandb_folder = os.path.join(current_dir, parent_folder_name)\n",
    "# We now call the function with the correct local directory.\n",
    "pull_wandb_data(\"CSE5ML-Assessment2\", wandb_folder)"
   ]
  },
  {
   "cell_type": "markdown",
   "id": "64c83321",
   "metadata": {},
   "source": [
    "### Define sets of hyperparameters\n",
    "\n",
    "The cell below allow us to set a plethora of hyperparameters, such as the learning rate, batch_size, but also the optimiser and the number of epochs the training loop is run for. "
   ]
  },
  {
   "cell_type": "code",
   "execution_count": 13,
   "id": "4f8d05a7",
   "metadata": {},
   "outputs": [],
   "source": [
    "# --- Define Hyperparameter Sets ---\n",
    "# Part 1 Task 3 only requires one experiment with an MLP, so we will just define one hyperparameter set for the MLP here.\n",
    "mlp_epochs = 100\n",
    "mlp_batch_size = 64\n",
    "# Experiment 1: Our baseline run\n",
    "# We choose SGD as our optimiser because it is expected that the loss landscape of our simple MLP model is largely convex. \n",
    "mlp_exp_1_config = {\n",
    "    \"optimiser\": \"SGD\",\n",
    "    \"learning_rate\": 0.001, # The optimal, or at least a satisfactory LR will have to be identified by experimenting. We start with LR = 0.01. This does not lead to convergence of Loss and Accuracy. So LR=0.001 is used. \n",
    "    \"epochs\": mlp_epochs,\n",
    "    \"batch_size\": mlp_batch_size\n",
    "}\n",
    "\n",
    "\n",
    "# # Experiment 2: Same as the MLP_Baseline but with a lower learning rate\n",
    "# mlp_exp_2_config = {\n",
    "#     \"optimiser\": \"Adam\",\n",
    "#     \"learning_rate\": 0.001,\n",
    "#     \"epochs\": mlp_epochs,\n",
    "#     \"batch_size\": mlp_batch_size,\n",
    "# }\n",
    "\n",
    "# # Experiment 3: Same as the MLP_Baseline but with a different optimizer (SGD)\n",
    "# mlp_exp_3_config = {\n",
    "#     \"optimiser\": \"SGD\",\n",
    "#     \"learning_rate\": 0.01,\n",
    "#     \"epochs\": mlp_epochs,\n",
    "#     \"batch_size\": mlp_batch_size,\n",
    "# }\n",
    "\n",
    "# # Experiment 4: Same as the MLP_Baseline but with a different optimizer (SGD) and a lower learning rate\n",
    "# mlp_exp_4_config = {\n",
    "#     \"optimiser\": \"SGD\",\n",
    "#     \"learning_rate\": 0.001,\n",
    "#     \"epochs\": mlp_epochs,\n",
    "#     \"batch_size\": mlp_batch_size,\n",
    "# }"
   ]
  },
  {
   "cell_type": "code",
   "execution_count": 14,
   "id": "c67af808",
   "metadata": {},
   "outputs": [],
   "source": [
    "# --- Run the full list of models ---\n",
    "run_mlp_experiments = False\n",
    "\n",
    "if run_mlp_experiments:\n",
    "    mlp_histories = []\n",
    "    for mlp_model_function in mlp_model_functions:\n",
    "        mlp_history = run_experiment(\n",
    "            model_creation_func=mlp_model_function, \n",
    "            # But use only one set of hyperparameters for now.\n",
    "            hyperparameters=mlp_exp_1_config, \n",
    "            parent_folder='MLP_Models',\n",
    "            X_train=X_train,\n",
    "            Y_train=Y_train,\n",
    "        )\n",
    "        mlp_histories.append(mlp_history)\n",
    "\n",
    "# # --- To run the second experiment, we just call it again with a different config (hyper parameter set) :-)\n",
    "# --- We first  test different model architectures before running more experiments with different hyperparameters (Part 1 Task 1 & 2). ---\n",
    "# --- THen we test the best performing model of Part 1 Task 1& 2 with different hyperparameters. ---"
   ]
  },
  {
   "cell_type": "markdown",
   "id": "3b94357c",
   "metadata": {},
   "source": [
    "# Notes on Sparse Categorical Loss vs. Categorical Loss\n",
    "# Understanding Cross-Entropy Loss\n",
    "\n",
    "At its heart, **cross-entropy** is a concept from information theory that measures how different two probability distributions are. In the context of training a neural network for classification, we use it to measure the \"distance\" between the model's predicted probability distribution and the true probability distribution of the labels. The goal of training is to minimise this distance, effectively making the model's predictions more accurate (Goodfellow et al., 2016).\n",
    "\n",
    "---\n",
    "### Categorical Cross-Entropy (for One-Hot Labels)\n",
    "\n",
    "You use this loss function when your labels are explicitly **one-hot encoded** (e.g., the digit `3` is represented as `[0, 0, 0, 1, 0, 0, 0, 0, 0, 0]`). The formula for a single sample is:\n",
    "\n",
    "$$L = -\\sum_{i=0}^{C-1} y_i \\log(\\hat{y}_i)$$\n",
    "\n",
    "-   $L$ is the final loss value for the sample.\n",
    "-   $C$ is the total number of classes (e.g., 10 for MNIST).\n",
    "-   $y_i$ is the ground truth (it is `1` for the correct class and `0` for all others).\n",
    "-   $\\hat{y}_i$ is the model's predicted probability for class $i$.\n",
    "\n",
    "Because the `y` vector is almost all zeros, the summation simplifies to just the negative logarithm of the probability the model assigned to the single correct class. For a label of `3`, the loss simply becomes $L = -\\log(\\hat{y}_3)$.\n",
    "\n",
    "---\n",
    "### Sparse Categorical Cross-Entropy (for Integer Labels)\n",
    "\n",
    "This is a more computationally and memory-efficient version used when your labels are simple **integers** (e.g., `3`). It arrives at the exact same mathematical result but skips the need for the one-hot encoded vector.\n",
    "\n",
    "The formula is a direct implementation of the simplified logic:\n",
    "\n",
    "$$L = -\\log(\\hat{y}_c)$$\n",
    "\n",
    "-   $L$ is the final loss value for the sample.\n",
    "-   $c$ is the integer representing the correct class (e.g., `c = 3`).\n",
    "-   $\\hat{y}_c$ is the model's predicted probability for that correct class $c$.\n",
    "\n",
    "As Chollet (2021) explains, both formulas compute the exact same value. The choice is purely a practical one based on the format of your labels, not a mathematical one that affects the model's learning.\n",
    "\n",
    "---\n",
    "**References**\n",
    "\n",
    "Chollet, F. (2021). *Deep learning with Python* (2nd ed.). Shelter Island, NY: Manning Publications.\n",
    "\n",
    "Goodfellow, I., Bengio, Y., & Courville, A. (2016). *Deep learning*. Cambridge, MA: MIT Press."
   ]
  },
  {
   "cell_type": "markdown",
   "id": "aba7b25e",
   "metadata": {},
   "source": [
    "## Part 1, Task 2: Creating a simple Convolutional Neural Network (CNN)\n",
    "\n",
    "The code below defines our base model.\n",
    "\n",
    "To experiment with different architectures or tune its hyperparameters, we simply copy this entire cell and make our changes.\n",
    "\n",
    "We need to make sure to give each new model a unique name. This ensures that when the ModelCheckpoint callback saves the best-performing version during training, the filename will be clear and identifiable."
   ]
  },
  {
   "cell_type": "code",
   "execution_count": 15,
   "id": "d24564b0",
   "metadata": {},
   "outputs": [],
   "source": [
    "# **Task 2**\n",
    "\n",
    "# Build a neural network with the use of convolutional layers (you can decide other layer types you want to include in your network). \n",
    "# Then you can change the number of convolutional layers and the number of filters or activation functions in the convolutional layers to be able to improve network performance.\n",
    "\n",
    "def create_cnn_model_base() -> Sequential:\n",
    "    \"\"\"\n",
    "    Defines the base CNN model architecture with Dropout for regularization.\n",
    "    \"\"\"\n",
    "    model = Sequential([\n",
    "        # Preprocessing layers\n",
    "        Input(shape=(28, 28, 1)),\n",
    "        Normalization(),\n",
    "        \n",
    "        # --- Convolutional Block 1 ---\n",
    "        Conv2D(filters=32, kernel_size=(3, 3), activation='relu'),\n",
    "        MaxPooling2D(pool_size=(2, 2)),\n",
    "\n",
    "        # --- Convolutional Block 2 ---\n",
    "        Conv2D(filters=64, kernel_size=(3, 3), activation='relu'),\n",
    "        MaxPooling2D(pool_size=(2, 2)),\n",
    "        \n",
    "        # --- Classification Head ---\n",
    "        Flatten(),\n",
    "        # Dropout(0.5),\n",
    "        Dense(units=128, activation='relu'),\n",
    "        Dense(units=10, activation='softmax')\n",
    "    ], name=\"Base_CNN\")\n",
    "    return model    "
   ]
  },
  {
   "cell_type": "code",
   "execution_count": 16,
   "id": "f5954ee3",
   "metadata": {},
   "outputs": [],
   "source": [
    "# Create a second CNN base model with the same architecture, but a dropout in the classification head.\n",
    "def create_cnn_model_base_dropout() -> Sequential:\n",
    "    \"\"\"\n",
    "    Defines and returns the base CNN model architecture with dropout in the classification head.\n",
    "    \"\"\"\n",
    "    model = Sequential([\n",
    "        # Preprocessing layers\n",
    "        Input(shape=(28, 28, 1)),\n",
    "        Normalization(),\n",
    "            \n",
    "        # --- Convolutional Block 1 ---\n",
    "        Conv2D(filters=32, kernel_size=(3, 3), activation='relu'),\n",
    "        MaxPooling2D(pool_size=(2, 2)),\n",
    "\n",
    "        # --- Convolutional Block 2 ---\n",
    "        Conv2D(filters=64, kernel_size=(3, 3), activation='relu'),\n",
    "        MaxPooling2D(pool_size=(2, 2)),\n",
    "        \n",
    "        # --- Classification Head ---\n",
    "        Flatten(),\n",
    "        Dropout(0.5),\n",
    "        Dense(units=128, activation='relu'),\n",
    "        Dense(units=10, activation='softmax')\n",
    "    ], name=\"CNN_with_Dropout\")\n",
    "    return model"
   ]
  },
  {
   "cell_type": "code",
   "execution_count": 17,
   "id": "1879ccb8",
   "metadata": {},
   "outputs": [],
   "source": [
    "# Create a wide CNN \n",
    "def create_cnn_model_wide() -> Sequential:\n",
    "    \"\"\"\n",
    "    Defines and returns a wide CNN model architecture.\n",
    "    \"\"\"\n",
    "    model = Sequential([\n",
    "        # Preprocessing layers\n",
    "        Input(shape=(28, 28, 1)),\n",
    "        Normalization(),\n",
    "        \n",
    "        # --- Convolutional Block 1 ---\n",
    "        Conv2D(filters=64, kernel_size=(3, 3), activation='relu'),\n",
    "        MaxPooling2D(pool_size=(2, 2)),\n",
    "\n",
    "        # --- Convolutional Block 2 ---\n",
    "        Conv2D(filters=128, kernel_size=(3, 3), activation='relu'),\n",
    "        MaxPooling2D(pool_size=(2, 2)),\n",
    "        \n",
    "        # --- Classification Head ---\n",
    "        Flatten(),\n",
    "        Dropout(0.5),\n",
    "        Dense(units=256, activation='relu'),\n",
    "        Dense(units=10, activation='softmax')\n",
    "    ], name=\"Wide_CNN_Model\")\n",
    "    return model"
   ]
  },
  {
   "cell_type": "code",
   "execution_count": 18,
   "id": "ec63191a",
   "metadata": {},
   "outputs": [],
   "source": [
    "def create_cnn_model_deep() -> Sequential:\n",
    "    \"\"\"\n",
    "    Defines and returns a deep CNN model architecture with padding to preserve dimensions.\n",
    "    \"\"\"\n",
    "    model = Sequential([\n",
    "        Input(shape=(28, 28, 1)),\n",
    "        Normalization(),\n",
    "        \n",
    "        # --- Convolutional Block 1 ---\n",
    "        # Add padding='same' to all Conv2D layers, so we preserve the spatial dimensions. If we don't do this, the image shrinks too quickly.\n",
    "        # and no meaningful features can be extracted.\n",
    "        Conv2D(filters=32, kernel_size=(3, 3), activation='relu', padding='same'),\n",
    "        Conv2D(filters=32, kernel_size=(3, 3), activation='relu', padding='same'),\n",
    "        Conv2D(filters=32, kernel_size=(3, 3), activation='relu', padding='same'),\n",
    "        MaxPooling2D(pool_size=(2, 2)), # This is where the shrinking now happens (28x28 -> 14x14)\n",
    "\n",
    "        # --- Convolutional Block 2 ---\n",
    "        Conv2D(filters=64, kernel_size=(3, 3), activation='relu', padding='same'),\n",
    "        Conv2D(filters=64, kernel_size=(3, 3), activation='relu', padding='same'),\n",
    "        Conv2D(filters=64, kernel_size=(3, 3), activation='relu', padding='same'),\n",
    "        MaxPooling2D(pool_size=(2, 2)), # Second shrink (14x14 -> 7x7)\n",
    "        \n",
    "        # --- Classification Head ---\n",
    "        # The input to Flatten is now a healthy 7x7x64=3,136 full of rich features.\n",
    "        Flatten(),\n",
    "        Dropout(0.5),\n",
    "        Dense(units=128, activation='relu'),\n",
    "        Dense(units=10, activation='softmax')\n",
    "    ], name=\"Deep_CNN_Model_Padded\")\n",
    "    return model"
   ]
  },
  {
   "cell_type": "code",
   "execution_count": 19,
   "id": "12d18c34",
   "metadata": {},
   "outputs": [],
   "source": [
    "cnn_model_functions = [\n",
    "create_cnn_model_base,\n",
    "create_cnn_model_base_dropout,\n",
    "create_cnn_model_wide,\n",
    "# create_cnn_model_deep, # We teain the deep network separately with a much lower LR. We have observed that this model performs no better than a random guess (i.e. 10% val. accuracy)\n",
    "# Almost certainly this has to do with the LR, the model can't get to the valleys of the loss landscape, as it overshoots. \n",
    "# Future to do: Find a way to reduce the loss landscape to 3D, or 2D dimension, and show the parth the Optimiser takes, to be able to demonstrate the effect of the LR. \n",
    "]\n",
    "\n",
    "\n",
    "# cnn_model_functions = [\n",
    "# create_cnn_model_deep,\n",
    "# ]"
   ]
  },
  {
   "cell_type": "markdown",
   "id": "1a722801",
   "metadata": {},
   "source": [
    "# Plotting all model architectures"
   ]
  },
  {
   "cell_type": "code",
   "execution_count": 20,
   "id": "40c7eefc",
   "metadata": {},
   "outputs": [],
   "source": [
    "# The 'text_callable' function is a special callback used by the visualkeras library. \n",
    "# Its main job is to create the text label that appears on top of or next to each\n",
    "# layer block in the generated visualization. It's called once for every layer in your model.\n",
    "\n",
    "def text_callable(layer_index, layer):\n",
    "    # 'layer_index' is an integer representing the position of the layer in the model's sequence.\n",
    "    # 'layer' is the actual Keras layer object itself (e.g., a Conv2D, Dense, or Flatten layer).\n",
    "\n",
    "    # The boolean value 'above' is used to alternate the vertical position of the text labels.\n",
    "    # By using the modulo operator (%), we check if the layer's index is odd or even.\n",
    "    # This ensures that the text labels don't overlap, making the visualization cleaner.\n",
    "    above = bool(layer_index % 2)\n",
    "\n",
    "    # We use a 'try...except' block as a defensive programming practice.\n",
    "    # This helps the code run without crashing even if it encounters unexpected errors.\n",
    "    try:\n",
    "        # We first try to get the layer's output shape using the 'layer.output.shape' attribute.\n",
    "        # This is the standard way to get shape information in modern TensorFlow.\n",
    "        shape = layer.output.shape\n",
    "    except AttributeError:\n",
    "        # If the first attempt fails (e.g., if the layer is not yet built), we move to this block.\n",
    "        # This is a fallback to ensure compatibility with different Keras versions and layer types.\n",
    "        try:\n",
    "            # Here, we try to access the 'layer.output_shape' attribute, which was more common\n",
    "            # in older versions of Keras. This helps the function work with a wider range of models.\n",
    "            shape = layer.output_shape\n",
    "        except AttributeError:\n",
    "            # If both attempts to get the shape fail, it means the layer doesn't have a defined output shape.\n",
    "            # This can happen for a number of reasons. In this case, we return a label\n",
    "            # that says \"Shape N/A\" to indicate the issue without crashing the program.\n",
    "            return f\"{layer.name}\\n(Shape N/A)\", above\n",
    "\n",
    "    # Keras represents shapes in various ways. For instance, a single-output layer might\n",
    "    # return a shape as a list, a tuple, or a special 'TensorShape' object.\n",
    "    # This 'if' statement handles the case where the shape is returned as a nested list,\n",
    "    # ensuring we only work with the first (and typically most relevant) shape.\n",
    "    if isinstance(shape, list):\n",
    "        shape = shape[0]\n",
    "\n",
    "    # 'TensorShape' is a specific object type in TensorFlow. To manipulate its values,\n",
    "    # we need to convert it into a standard Python list. The 'as_list()' method does this for us.\n",
    "    if isinstance(shape, tf.TensorShape):\n",
    "        output_shape = shape.as_list()\n",
    "    else:\n",
    "        # If the shape is already a list or tuple, we simply convert it to a list.\n",
    "        output_shape = list(shape)\n",
    "    \n",
    "    # Keras models often have a 'None' dimension in their shape to represent the\n",
    "    # variable batch size. For our visualization, we don't need this, as it would just\n",
    "    # clutter the output. This line uses a list comprehension to filter out the 'None' value.\n",
    "    output_shape = [dim for dim in output_shape if dim is not None]\n",
    "    \n",
    "    # We add an offset to the text position here.\n",
    "    # The offset will push the text away from the layers.\n",
    "    # This simulates padding around the text.\n",
    "    # \n",
    "    # Please note that the actual padding is controlled by the 'padding' and 'spacing'\n",
    "    # parameters in the 'visualkeras.layered_view()' function, but a clever use of\n",
    "    # this function can also help with text positioning.\n",
    "\n",
    "    # We initialize an empty string to build our final text label.\n",
    "    output_shape_txt = \"\"\n",
    "\n",
    "    # 'enumerate' is a handy built-in Python function. It allows us to loop through a sequence\n",
    "    # (in this case, our list of shape dimensions) and get both the index ('ii') and the\n",
    "    # value ('dim') at the same time. This is perfect for when we need to perform an action\n",
    "    # based on an item's position, like adding 'x' or a newline.\n",
    "    for ii, dim in enumerate(output_shape):\n",
    "        # We append the current dimension (as a string) to our text label.\n",
    "        output_shape_txt += str(dim)\n",
    "        \n",
    "        # This line is for debugging purposes. It prints the shape to the console\n",
    "        # to help us verify what the function is seeing. We can remove this later.\n",
    "        # print(f'Output shape: {output_shape}')\n",
    "\n",
    "        # We want to add an 'x' between the dimensions (e.g., 28x28). This 'if' statement\n",
    "        # checks if we are not at the last two dimensions of the shape, as the format is different there.\n",
    "        if ii < len(output_shape) - 2:\n",
    "            output_shape_txt += \"x\"\n",
    "\n",
    "        # This 'if' statement adds a newline character to create the desired format\n",
    "        # where the last dimension is on a new line (e.g., 28x28\\n64).\n",
    "        if ii == len(output_shape) - 2:\n",
    "            output_shape_txt += \"\\n\" #\\n here is the space between the output shape and nr of filteres (e.g. 28 x 28, 32) and the keras name for the layer. \n",
    "\n",
    "\n",
    "\n",
    "\n",
    "    # --- General Check for Attributes ---\n",
    "    # We check if the layer has an 'activation' attribute.\n",
    "    if hasattr(layer, 'activation') and layer.activation is not None:\n",
    "        activation = layer.activation.__name__\n",
    "        output_shape_txt += f\"\\n{activation}\"\n",
    "    \n",
    "    # We check if the layer has a 'kernel_size' attribute.\n",
    "    if hasattr(layer, 'kernel_size') and layer.kernel_size is not None:\n",
    "        kernel_size = layer.kernel_size\n",
    "        output_shape_txt += f\"\\nKernel: {kernel_size}\"\n",
    "\n",
    "    # Finally, we add the name of the layer to our text, preceded by a newline, to ensure\n",
    "    # the layer name appears on a new line below the shape.\n",
    "    # output_shape_txt += f\"\\n{layer.name}\" #\\n is the space between the feature size (e.g. 28 x 28) and the number of filters (if any)\n",
    "    output_shape_txt += f\"\\n\\n\" #\\n is the space between the feature size (e.g. 28 x 28) and the number of filters (if any)\n",
    "    # The function returns the complete text string and the boolean value 'above',\n",
    "    # which tells visualkeras where to place the label relative to the layer block.\n",
    "\n",
    "    return output_shape_txt, above"
   ]
  },
  {
   "cell_type": "code",
   "execution_count": 21,
   "id": "8185b545",
   "metadata": {},
   "outputs": [],
   "source": [
    "def visualise_model(model: Model, style: str = 'layered'):\n",
    "    \"\"\"\n",
    "    Generates and displays a visual architecture plot for a given Keras model,\n",
    "    with advanced customization options.\n",
    "    \"\"\"\n",
    "    print(f\"--- Visualizing Architecture for: {model.name} (Style: {style}) ---\")\n",
    "    \n",
    "    # Define a custom color map for the layers.\n",
    "    # We use defaultdict for a default grey color if a layer type isn't specified.\n",
    "    color_map = defaultdict(lambda: {'fill': '#999999'})\n",
    "    color_map[Conv2D] = {'fill': '#00B8D4'}\n",
    "    color_map[MaxPooling2D] = {'fill': '#FFAB00'}\n",
    "    color_map[Dense] = {'fill': '#651FFF'}\n",
    "    color_map[Flatten] = {'fill': '#E91E63'}\n",
    "    color_map[Normalization] = {'fill': '#BDBDBD'}\n",
    "\n",
    "    # Define a custom font for the text labels.\n",
    "    # The font size can be adjusted here.\n",
    "    custom_font = ImageFont.truetype(\"arial.ttf\", 14)\n",
    "\n",
    "    # We use a 'with' statement to temporarily ignore any minor warnings\n",
    "    # from the visualkeras library, which keeps our output clean.\n",
    "    with warnings.catch_warnings():\n",
    "        warnings.simplefilter(\"ignore\", UserWarning)\n",
    "        \n",
    "        if style == 'layered':\n",
    "            # This is the core function call for creating the visualization.\n",
    "            # We use the advanced parameters from the provided example code.\n",
    "            # The function now takes the model as an argument, as requested.\n",
    "            advanced_layered_img = visualkeras.layered_view(\n",
    "                model,\n",
    "                text_callable=text_callable,\n",
    "                legend=True,  # Shows a legend to explain what each color represents.\n",
    "                font=custom_font, # Applies our custom-defined font.\n",
    "                color_map=color_map, # Uses our custom color scheme.\n",
    "                draw_volume=True,  # Renders the layers as 3D blocks.\n",
    "                draw_funnel=True,  # Shows a funnel shape to represent data compression.\n",
    "                spacing=30,  # Increases the horizontal space between layers for better readability.\n",
    "                padding=50,  # Adds a border around the entire image to prevent text cutoff.\n",
    "                scale_xy=3, # Adjusts the scale of the layers' width and depth.\n",
    "                scale_z=2,  # Adjusts the scale of the layers' height.\n",
    "                min_xy=10,\n",
    "                max_z=500, # Caps the maximum height of a layer block.\n",
    "                max_xy = 500,\n",
    "                font_color='black', # Sets the text color for the legend and labels.\n",
    "                one_dim_orientation='y', # Sets the orientation for 1D layers like Flatten.\n",
    "                # sizing_mode='accurate', # Ensures that the layer sizes are proportionally accurate.\n",
    "                type_ignore=[Flatten, Dropout], # Excludes Flatten and Dropout layers from the main diagram.\n",
    "            )\n",
    "            \n",
    "            # Display the generated image.\n",
    "            display(advanced_layered_img)\n",
    "\n",
    "        elif style == 'graph':\n",
    "            # This is an alternative view that creates a simpler 2D diagram.\n",
    "            display(visualkeras.graph_view(\n",
    "                model,\n",
    "                color_map=color_map\n",
    "            ))\n",
    "        else:\n",
    "            # Error handling for an unknown style.\n",
    "            print(f\"Error: Unknown style '{style}'. Please choose 'layered' or 'graph'.\")"
   ]
  },
  {
   "cell_type": "markdown",
   "id": "b7341cec",
   "metadata": {},
   "source": [
    "## Plotting the MLP models"
   ]
  },
  {
   "cell_type": "code",
   "execution_count": 22,
   "id": "10d7ab22",
   "metadata": {},
   "outputs": [
    {
     "name": "stdout",
     "output_type": "stream",
     "text": [
      "--- Visualizing Architecture for: Base_MLP_Model (Style: layered) ---\n"
     ]
    },
    {
     "data": {
      "image/png": "[encoded data removed]",
      "text/plain": [
       "<PIL.Image.Image image mode=RGBA size=336x450>"
      ]
     },
     "metadata": {},
     "output_type": "display_data"
    },
    {
     "data": {
      "text/html": [
       "<pre style=\"white-space:pre;overflow-x:auto;line-height:normal;font-family:Menlo,'DejaVu Sans Mono',consolas,'Courier New',monospace\"><span style=\"font-weight: bold\">Model: \"Base_MLP_Model\"</span>\n",
       "</pre>\n"
      ],
      "text/plain": [
       "\u001b[1mModel: \"Base_MLP_Model\"\u001b[0m\n"
      ]
     },
     "metadata": {},
     "output_type": "display_data"
    },
    {
     "data": {
      "text/html": [
       "<pre style=\"white-space:pre;overflow-x:auto;line-height:normal;font-family:Menlo,'DejaVu Sans Mono',consolas,'Courier New',monospace\">┏━━━━━━━━━━━━━━━━━━━━━━━━━━━━━━━━━┳━━━━━━━━━━━━━━━━━━━━━━━━┳━━━━━━━━━━━━━━━┓\n",
       "┃<span style=\"font-weight: bold\"> Layer (type)                    </span>┃<span style=\"font-weight: bold\"> Output Shape           </span>┃<span style=\"font-weight: bold\">       Param # </span>┃\n",
       "┡━━━━━━━━━━━━━━━━━━━━━━━━━━━━━━━━━╇━━━━━━━━━━━━━━━━━━━━━━━━╇━━━━━━━━━━━━━━━┩\n",
       "│ normalization (<span style=\"color: #0087ff; text-decoration-color: #0087ff\">Normalization</span>)   │ (<span style=\"color: #00d7ff; text-decoration-color: #00d7ff\">None</span>, <span style=\"color: #00af00; text-decoration-color: #00af00\">28</span>, <span style=\"color: #00af00; text-decoration-color: #00af00\">28</span>, <span style=\"color: #00af00; text-decoration-color: #00af00\">1</span>)      │             <span style=\"color: #00af00; text-decoration-color: #00af00\">3</span> │\n",
       "├─────────────────────────────────┼────────────────────────┼───────────────┤\n",
       "│ flatten (<span style=\"color: #0087ff; text-decoration-color: #0087ff\">Flatten</span>)               │ (<span style=\"color: #00d7ff; text-decoration-color: #00d7ff\">None</span>, <span style=\"color: #00af00; text-decoration-color: #00af00\">784</span>)            │             <span style=\"color: #00af00; text-decoration-color: #00af00\">0</span> │\n",
       "├─────────────────────────────────┼────────────────────────┼───────────────┤\n",
       "│ dense (<span style=\"color: #0087ff; text-decoration-color: #0087ff\">Dense</span>)                   │ (<span style=\"color: #00d7ff; text-decoration-color: #00d7ff\">None</span>, <span style=\"color: #00af00; text-decoration-color: #00af00\">32</span>)             │        <span style=\"color: #00af00; text-decoration-color: #00af00\">25,120</span> │\n",
       "├─────────────────────────────────┼────────────────────────┼───────────────┤\n",
       "│ dense_1 (<span style=\"color: #0087ff; text-decoration-color: #0087ff\">Dense</span>)                 │ (<span style=\"color: #00d7ff; text-decoration-color: #00d7ff\">None</span>, <span style=\"color: #00af00; text-decoration-color: #00af00\">64</span>)             │         <span style=\"color: #00af00; text-decoration-color: #00af00\">2,112</span> │\n",
       "├─────────────────────────────────┼────────────────────────┼───────────────┤\n",
       "│ dense_2 (<span style=\"color: #0087ff; text-decoration-color: #0087ff\">Dense</span>)                 │ (<span style=\"color: #00d7ff; text-decoration-color: #00d7ff\">None</span>, <span style=\"color: #00af00; text-decoration-color: #00af00\">32</span>)             │         <span style=\"color: #00af00; text-decoration-color: #00af00\">2,080</span> │\n",
       "├─────────────────────────────────┼────────────────────────┼───────────────┤\n",
       "│ dense_3 (<span style=\"color: #0087ff; text-decoration-color: #0087ff\">Dense</span>)                 │ (<span style=\"color: #00d7ff; text-decoration-color: #00d7ff\">None</span>, <span style=\"color: #00af00; text-decoration-color: #00af00\">10</span>)             │           <span style=\"color: #00af00; text-decoration-color: #00af00\">330</span> │\n",
       "└─────────────────────────────────┴────────────────────────┴───────────────┘\n",
       "</pre>\n"
      ],
      "text/plain": [
       "┏━━━━━━━━━━━━━━━━━━━━━━━━━━━━━━━━━┳━━━━━━━━━━━━━━━━━━━━━━━━┳━━━━━━━━━━━━━━━┓\n",
       "┃\u001b[1m \u001b[0m\u001b[1mLayer (type)                   \u001b[0m\u001b[1m \u001b[0m┃\u001b[1m \u001b[0m\u001b[1mOutput Shape          \u001b[0m\u001b[1m \u001b[0m┃\u001b[1m \u001b[0m\u001b[1m      Param #\u001b[0m\u001b[1m \u001b[0m┃\n",
       "┡━━━━━━━━━━━━━━━━━━━━━━━━━━━━━━━━━╇━━━━━━━━━━━━━━━━━━━━━━━━╇━━━━━━━━━━━━━━━┩\n",
       "│ normalization (\u001b[38;5;33mNormalization\u001b[0m)   │ (\u001b[38;5;45mNone\u001b[0m, \u001b[38;5;34m28\u001b[0m, \u001b[38;5;34m28\u001b[0m, \u001b[38;5;34m1\u001b[0m)      │             \u001b[38;5;34m3\u001b[0m │\n",
       "├─────────────────────────────────┼────────────────────────┼───────────────┤\n",
       "│ flatten (\u001b[38;5;33mFlatten\u001b[0m)               │ (\u001b[38;5;45mNone\u001b[0m, \u001b[38;5;34m784\u001b[0m)            │             \u001b[38;5;34m0\u001b[0m │\n",
       "├─────────────────────────────────┼────────────────────────┼───────────────┤\n",
       "│ dense (\u001b[38;5;33mDense\u001b[0m)                   │ (\u001b[38;5;45mNone\u001b[0m, \u001b[38;5;34m32\u001b[0m)             │        \u001b[38;5;34m25,120\u001b[0m │\n",
       "├─────────────────────────────────┼────────────────────────┼───────────────┤\n",
       "│ dense_1 (\u001b[38;5;33mDense\u001b[0m)                 │ (\u001b[38;5;45mNone\u001b[0m, \u001b[38;5;34m64\u001b[0m)             │         \u001b[38;5;34m2,112\u001b[0m │\n",
       "├─────────────────────────────────┼────────────────────────┼───────────────┤\n",
       "│ dense_2 (\u001b[38;5;33mDense\u001b[0m)                 │ (\u001b[38;5;45mNone\u001b[0m, \u001b[38;5;34m32\u001b[0m)             │         \u001b[38;5;34m2,080\u001b[0m │\n",
       "├─────────────────────────────────┼────────────────────────┼───────────────┤\n",
       "│ dense_3 (\u001b[38;5;33mDense\u001b[0m)                 │ (\u001b[38;5;45mNone\u001b[0m, \u001b[38;5;34m10\u001b[0m)             │           \u001b[38;5;34m330\u001b[0m │\n",
       "└─────────────────────────────────┴────────────────────────┴───────────────┘\n"
      ]
     },
     "metadata": {},
     "output_type": "display_data"
    },
    {
     "data": {
      "text/html": [
       "<pre style=\"white-space:pre;overflow-x:auto;line-height:normal;font-family:Menlo,'DejaVu Sans Mono',consolas,'Courier New',monospace\"><span style=\"font-weight: bold\"> Total params: </span><span style=\"color: #00af00; text-decoration-color: #00af00\">29,645</span> (115.80 KB)\n",
       "</pre>\n"
      ],
      "text/plain": [
       "\u001b[1m Total params: \u001b[0m\u001b[38;5;34m29,645\u001b[0m (115.80 KB)\n"
      ]
     },
     "metadata": {},
     "output_type": "display_data"
    },
    {
     "data": {
      "text/html": [
       "<pre style=\"white-space:pre;overflow-x:auto;line-height:normal;font-family:Menlo,'DejaVu Sans Mono',consolas,'Courier New',monospace\"><span style=\"font-weight: bold\"> Trainable params: </span><span style=\"color: #00af00; text-decoration-color: #00af00\">29,642</span> (115.79 KB)\n",
       "</pre>\n"
      ],
      "text/plain": [
       "\u001b[1m Trainable params: \u001b[0m\u001b[38;5;34m29,642\u001b[0m (115.79 KB)\n"
      ]
     },
     "metadata": {},
     "output_type": "display_data"
    },
    {
     "data": {
      "text/html": [
       "<pre style=\"white-space:pre;overflow-x:auto;line-height:normal;font-family:Menlo,'DejaVu Sans Mono',consolas,'Courier New',monospace\"><span style=\"font-weight: bold\"> Non-trainable params: </span><span style=\"color: #00af00; text-decoration-color: #00af00\">3</span> (16.00 B)\n",
       "</pre>\n"
      ],
      "text/plain": [
       "\u001b[1m Non-trainable params: \u001b[0m\u001b[38;5;34m3\u001b[0m (16.00 B)\n"
      ]
     },
     "metadata": {},
     "output_type": "display_data"
    },
    {
     "name": "stdout",
     "output_type": "stream",
     "text": [
      "============================================================\n",
      "\n",
      "--- Visualizing Architecture for: Base_MLP_Model_2 (Style: layered) ---\n"
     ]
    },
    {
     "data": {
      "image/png": "[encoded data removed]",
      "text/plain": [
       "<PIL.Image.Image image mode=RGBA size=336x642>"
      ]
     },
     "metadata": {},
     "output_type": "display_data"
    },
    {
     "data": {
      "text/html": [
       "<pre style=\"white-space:pre;overflow-x:auto;line-height:normal;font-family:Menlo,'DejaVu Sans Mono',consolas,'Courier New',monospace\"><span style=\"font-weight: bold\">Model: \"Base_MLP_Model_2\"</span>\n",
       "</pre>\n"
      ],
      "text/plain": [
       "\u001b[1mModel: \"Base_MLP_Model_2\"\u001b[0m\n"
      ]
     },
     "metadata": {},
     "output_type": "display_data"
    },
    {
     "data": {
      "text/html": [
       "<pre style=\"white-space:pre;overflow-x:auto;line-height:normal;font-family:Menlo,'DejaVu Sans Mono',consolas,'Courier New',monospace\">┏━━━━━━━━━━━━━━━━━━━━━━━━━━━━━━━━━┳━━━━━━━━━━━━━━━━━━━━━━━━┳━━━━━━━━━━━━━━━┓\n",
       "┃<span style=\"font-weight: bold\"> Layer (type)                    </span>┃<span style=\"font-weight: bold\"> Output Shape           </span>┃<span style=\"font-weight: bold\">       Param # </span>┃\n",
       "┡━━━━━━━━━━━━━━━━━━━━━━━━━━━━━━━━━╇━━━━━━━━━━━━━━━━━━━━━━━━╇━━━━━━━━━━━━━━━┩\n",
       "│ normalization_1 (<span style=\"color: #0087ff; text-decoration-color: #0087ff\">Normalization</span>) │ (<span style=\"color: #00d7ff; text-decoration-color: #00d7ff\">None</span>, <span style=\"color: #00af00; text-decoration-color: #00af00\">28</span>, <span style=\"color: #00af00; text-decoration-color: #00af00\">28</span>, <span style=\"color: #00af00; text-decoration-color: #00af00\">1</span>)      │             <span style=\"color: #00af00; text-decoration-color: #00af00\">3</span> │\n",
       "├─────────────────────────────────┼────────────────────────┼───────────────┤\n",
       "│ flatten_1 (<span style=\"color: #0087ff; text-decoration-color: #0087ff\">Flatten</span>)             │ (<span style=\"color: #00d7ff; text-decoration-color: #00d7ff\">None</span>, <span style=\"color: #00af00; text-decoration-color: #00af00\">784</span>)            │             <span style=\"color: #00af00; text-decoration-color: #00af00\">0</span> │\n",
       "├─────────────────────────────────┼────────────────────────┼───────────────┤\n",
       "│ dense_4 (<span style=\"color: #0087ff; text-decoration-color: #0087ff\">Dense</span>)                 │ (<span style=\"color: #00d7ff; text-decoration-color: #00d7ff\">None</span>, <span style=\"color: #00af00; text-decoration-color: #00af00\">64</span>)             │        <span style=\"color: #00af00; text-decoration-color: #00af00\">50,240</span> │\n",
       "├─────────────────────────────────┼────────────────────────┼───────────────┤\n",
       "│ dense_5 (<span style=\"color: #0087ff; text-decoration-color: #0087ff\">Dense</span>)                 │ (<span style=\"color: #00d7ff; text-decoration-color: #00d7ff\">None</span>, <span style=\"color: #00af00; text-decoration-color: #00af00\">128</span>)            │         <span style=\"color: #00af00; text-decoration-color: #00af00\">8,320</span> │\n",
       "├─────────────────────────────────┼────────────────────────┼───────────────┤\n",
       "│ dense_6 (<span style=\"color: #0087ff; text-decoration-color: #0087ff\">Dense</span>)                 │ (<span style=\"color: #00d7ff; text-decoration-color: #00d7ff\">None</span>, <span style=\"color: #00af00; text-decoration-color: #00af00\">64</span>)             │         <span style=\"color: #00af00; text-decoration-color: #00af00\">8,256</span> │\n",
       "├─────────────────────────────────┼────────────────────────┼───────────────┤\n",
       "│ dense_7 (<span style=\"color: #0087ff; text-decoration-color: #0087ff\">Dense</span>)                 │ (<span style=\"color: #00d7ff; text-decoration-color: #00d7ff\">None</span>, <span style=\"color: #00af00; text-decoration-color: #00af00\">10</span>)             │           <span style=\"color: #00af00; text-decoration-color: #00af00\">650</span> │\n",
       "└─────────────────────────────────┴────────────────────────┴───────────────┘\n",
       "</pre>\n"
      ],
      "text/plain": [
       "┏━━━━━━━━━━━━━━━━━━━━━━━━━━━━━━━━━┳━━━━━━━━━━━━━━━━━━━━━━━━┳━━━━━━━━━━━━━━━┓\n",
       "┃\u001b[1m \u001b[0m\u001b[1mLayer (type)                   \u001b[0m\u001b[1m \u001b[0m┃\u001b[1m \u001b[0m\u001b[1mOutput Shape          \u001b[0m\u001b[1m \u001b[0m┃\u001b[1m \u001b[0m\u001b[1m      Param #\u001b[0m\u001b[1m \u001b[0m┃\n",
       "┡━━━━━━━━━━━━━━━━━━━━━━━━━━━━━━━━━╇━━━━━━━━━━━━━━━━━━━━━━━━╇━━━━━━━━━━━━━━━┩\n",
       "│ normalization_1 (\u001b[38;5;33mNormalization\u001b[0m) │ (\u001b[38;5;45mNone\u001b[0m, \u001b[38;5;34m28\u001b[0m, \u001b[38;5;34m28\u001b[0m, \u001b[38;5;34m1\u001b[0m)      │             \u001b[38;5;34m3\u001b[0m │\n",
       "├─────────────────────────────────┼────────────────────────┼───────────────┤\n",
       "│ flatten_1 (\u001b[38;5;33mFlatten\u001b[0m)             │ (\u001b[38;5;45mNone\u001b[0m, \u001b[38;5;34m784\u001b[0m)            │             \u001b[38;5;34m0\u001b[0m │\n",
       "├─────────────────────────────────┼────────────────────────┼───────────────┤\n",
       "│ dense_4 (\u001b[38;5;33mDense\u001b[0m)                 │ (\u001b[38;5;45mNone\u001b[0m, \u001b[38;5;34m64\u001b[0m)             │        \u001b[38;5;34m50,240\u001b[0m │\n",
       "├─────────────────────────────────┼────────────────────────┼───────────────┤\n",
       "│ dense_5 (\u001b[38;5;33mDense\u001b[0m)                 │ (\u001b[38;5;45mNone\u001b[0m, \u001b[38;5;34m128\u001b[0m)            │         \u001b[38;5;34m8,320\u001b[0m │\n",
       "├─────────────────────────────────┼────────────────────────┼───────────────┤\n",
       "│ dense_6 (\u001b[38;5;33mDense\u001b[0m)                 │ (\u001b[38;5;45mNone\u001b[0m, \u001b[38;5;34m64\u001b[0m)             │         \u001b[38;5;34m8,256\u001b[0m │\n",
       "├─────────────────────────────────┼────────────────────────┼───────────────┤\n",
       "│ dense_7 (\u001b[38;5;33mDense\u001b[0m)                 │ (\u001b[38;5;45mNone\u001b[0m, \u001b[38;5;34m10\u001b[0m)             │           \u001b[38;5;34m650\u001b[0m │\n",
       "└─────────────────────────────────┴────────────────────────┴───────────────┘\n"
      ]
     },
     "metadata": {},
     "output_type": "display_data"
    },
    {
     "data": {
      "text/html": [
       "<pre style=\"white-space:pre;overflow-x:auto;line-height:normal;font-family:Menlo,'DejaVu Sans Mono',consolas,'Courier New',monospace\"><span style=\"font-weight: bold\"> Total params: </span><span style=\"color: #00af00; text-decoration-color: #00af00\">67,469</span> (263.55 KB)\n",
       "</pre>\n"
      ],
      "text/plain": [
       "\u001b[1m Total params: \u001b[0m\u001b[38;5;34m67,469\u001b[0m (263.55 KB)\n"
      ]
     },
     "metadata": {},
     "output_type": "display_data"
    },
    {
     "data": {
      "text/html": [
       "<pre style=\"white-space:pre;overflow-x:auto;line-height:normal;font-family:Menlo,'DejaVu Sans Mono',consolas,'Courier New',monospace\"><span style=\"font-weight: bold\"> Trainable params: </span><span style=\"color: #00af00; text-decoration-color: #00af00\">67,466</span> (263.54 KB)\n",
       "</pre>\n"
      ],
      "text/plain": [
       "\u001b[1m Trainable params: \u001b[0m\u001b[38;5;34m67,466\u001b[0m (263.54 KB)\n"
      ]
     },
     "metadata": {},
     "output_type": "display_data"
    },
    {
     "data": {
      "text/html": [
       "<pre style=\"white-space:pre;overflow-x:auto;line-height:normal;font-family:Menlo,'DejaVu Sans Mono',consolas,'Courier New',monospace\"><span style=\"font-weight: bold\"> Non-trainable params: </span><span style=\"color: #00af00; text-decoration-color: #00af00\">3</span> (16.00 B)\n",
       "</pre>\n"
      ],
      "text/plain": [
       "\u001b[1m Non-trainable params: \u001b[0m\u001b[38;5;34m3\u001b[0m (16.00 B)\n"
      ]
     },
     "metadata": {},
     "output_type": "display_data"
    },
    {
     "name": "stdout",
     "output_type": "stream",
     "text": [
      "============================================================\n",
      "\n",
      "--- Visualizing Architecture for: Base_MLP_Model_3 (Style: layered) ---\n"
     ]
    },
    {
     "data": {
      "image/png": "[encoded data removed]",
      "text/plain": [
       "<PIL.Image.Image image mode=RGBA size=336x758>"
      ]
     },
     "metadata": {},
     "output_type": "display_data"
    },
    {
     "data": {
      "text/html": [
       "<pre style=\"white-space:pre;overflow-x:auto;line-height:normal;font-family:Menlo,'DejaVu Sans Mono',consolas,'Courier New',monospace\"><span style=\"font-weight: bold\">Model: \"Base_MLP_Model_3\"</span>\n",
       "</pre>\n"
      ],
      "text/plain": [
       "\u001b[1mModel: \"Base_MLP_Model_3\"\u001b[0m\n"
      ]
     },
     "metadata": {},
     "output_type": "display_data"
    },
    {
     "data": {
      "text/html": [
       "<pre style=\"white-space:pre;overflow-x:auto;line-height:normal;font-family:Menlo,'DejaVu Sans Mono',consolas,'Courier New',monospace\">┏━━━━━━━━━━━━━━━━━━━━━━━━━━━━━━━━━┳━━━━━━━━━━━━━━━━━━━━━━━━┳━━━━━━━━━━━━━━━┓\n",
       "┃<span style=\"font-weight: bold\"> Layer (type)                    </span>┃<span style=\"font-weight: bold\"> Output Shape           </span>┃<span style=\"font-weight: bold\">       Param # </span>┃\n",
       "┡━━━━━━━━━━━━━━━━━━━━━━━━━━━━━━━━━╇━━━━━━━━━━━━━━━━━━━━━━━━╇━━━━━━━━━━━━━━━┩\n",
       "│ normalization_2 (<span style=\"color: #0087ff; text-decoration-color: #0087ff\">Normalization</span>) │ (<span style=\"color: #00d7ff; text-decoration-color: #00d7ff\">None</span>, <span style=\"color: #00af00; text-decoration-color: #00af00\">28</span>, <span style=\"color: #00af00; text-decoration-color: #00af00\">28</span>, <span style=\"color: #00af00; text-decoration-color: #00af00\">1</span>)      │             <span style=\"color: #00af00; text-decoration-color: #00af00\">3</span> │\n",
       "├─────────────────────────────────┼────────────────────────┼───────────────┤\n",
       "│ flatten_2 (<span style=\"color: #0087ff; text-decoration-color: #0087ff\">Flatten</span>)             │ (<span style=\"color: #00d7ff; text-decoration-color: #00d7ff\">None</span>, <span style=\"color: #00af00; text-decoration-color: #00af00\">784</span>)            │             <span style=\"color: #00af00; text-decoration-color: #00af00\">0</span> │\n",
       "├─────────────────────────────────┼────────────────────────┼───────────────┤\n",
       "│ dense_8 (<span style=\"color: #0087ff; text-decoration-color: #0087ff\">Dense</span>)                 │ (<span style=\"color: #00d7ff; text-decoration-color: #00d7ff\">None</span>, <span style=\"color: #00af00; text-decoration-color: #00af00\">128</span>)            │       <span style=\"color: #00af00; text-decoration-color: #00af00\">100,480</span> │\n",
       "├─────────────────────────────────┼────────────────────────┼───────────────┤\n",
       "│ dense_9 (<span style=\"color: #0087ff; text-decoration-color: #0087ff\">Dense</span>)                 │ (<span style=\"color: #00d7ff; text-decoration-color: #00d7ff\">None</span>, <span style=\"color: #00af00; text-decoration-color: #00af00\">256</span>)            │        <span style=\"color: #00af00; text-decoration-color: #00af00\">33,024</span> │\n",
       "├─────────────────────────────────┼────────────────────────┼───────────────┤\n",
       "│ dense_10 (<span style=\"color: #0087ff; text-decoration-color: #0087ff\">Dense</span>)                │ (<span style=\"color: #00d7ff; text-decoration-color: #00d7ff\">None</span>, <span style=\"color: #00af00; text-decoration-color: #00af00\">64</span>)             │        <span style=\"color: #00af00; text-decoration-color: #00af00\">16,448</span> │\n",
       "├─────────────────────────────────┼────────────────────────┼───────────────┤\n",
       "│ dense_11 (<span style=\"color: #0087ff; text-decoration-color: #0087ff\">Dense</span>)                │ (<span style=\"color: #00d7ff; text-decoration-color: #00d7ff\">None</span>, <span style=\"color: #00af00; text-decoration-color: #00af00\">10</span>)             │           <span style=\"color: #00af00; text-decoration-color: #00af00\">650</span> │\n",
       "└─────────────────────────────────┴────────────────────────┴───────────────┘\n",
       "</pre>\n"
      ],
      "text/plain": [
       "┏━━━━━━━━━━━━━━━━━━━━━━━━━━━━━━━━━┳━━━━━━━━━━━━━━━━━━━━━━━━┳━━━━━━━━━━━━━━━┓\n",
       "┃\u001b[1m \u001b[0m\u001b[1mLayer (type)                   \u001b[0m\u001b[1m \u001b[0m┃\u001b[1m \u001b[0m\u001b[1mOutput Shape          \u001b[0m\u001b[1m \u001b[0m┃\u001b[1m \u001b[0m\u001b[1m      Param #\u001b[0m\u001b[1m \u001b[0m┃\n",
       "┡━━━━━━━━━━━━━━━━━━━━━━━━━━━━━━━━━╇━━━━━━━━━━━━━━━━━━━━━━━━╇━━━━━━━━━━━━━━━┩\n",
       "│ normalization_2 (\u001b[38;5;33mNormalization\u001b[0m) │ (\u001b[38;5;45mNone\u001b[0m, \u001b[38;5;34m28\u001b[0m, \u001b[38;5;34m28\u001b[0m, \u001b[38;5;34m1\u001b[0m)      │             \u001b[38;5;34m3\u001b[0m │\n",
       "├─────────────────────────────────┼────────────────────────┼───────────────┤\n",
       "│ flatten_2 (\u001b[38;5;33mFlatten\u001b[0m)             │ (\u001b[38;5;45mNone\u001b[0m, \u001b[38;5;34m784\u001b[0m)            │             \u001b[38;5;34m0\u001b[0m │\n",
       "├─────────────────────────────────┼────────────────────────┼───────────────┤\n",
       "│ dense_8 (\u001b[38;5;33mDense\u001b[0m)                 │ (\u001b[38;5;45mNone\u001b[0m, \u001b[38;5;34m128\u001b[0m)            │       \u001b[38;5;34m100,480\u001b[0m │\n",
       "├─────────────────────────────────┼────────────────────────┼───────────────┤\n",
       "│ dense_9 (\u001b[38;5;33mDense\u001b[0m)                 │ (\u001b[38;5;45mNone\u001b[0m, \u001b[38;5;34m256\u001b[0m)            │        \u001b[38;5;34m33,024\u001b[0m │\n",
       "├─────────────────────────────────┼────────────────────────┼───────────────┤\n",
       "│ dense_10 (\u001b[38;5;33mDense\u001b[0m)                │ (\u001b[38;5;45mNone\u001b[0m, \u001b[38;5;34m64\u001b[0m)             │        \u001b[38;5;34m16,448\u001b[0m │\n",
       "├─────────────────────────────────┼────────────────────────┼───────────────┤\n",
       "│ dense_11 (\u001b[38;5;33mDense\u001b[0m)                │ (\u001b[38;5;45mNone\u001b[0m, \u001b[38;5;34m10\u001b[0m)             │           \u001b[38;5;34m650\u001b[0m │\n",
       "└─────────────────────────────────┴────────────────────────┴───────────────┘\n"
      ]
     },
     "metadata": {},
     "output_type": "display_data"
    },
    {
     "data": {
      "text/html": [
       "<pre style=\"white-space:pre;overflow-x:auto;line-height:normal;font-family:Menlo,'DejaVu Sans Mono',consolas,'Courier New',monospace\"><span style=\"font-weight: bold\"> Total params: </span><span style=\"color: #00af00; text-decoration-color: #00af00\">150,605</span> (588.30 KB)\n",
       "</pre>\n"
      ],
      "text/plain": [
       "\u001b[1m Total params: \u001b[0m\u001b[38;5;34m150,605\u001b[0m (588.30 KB)\n"
      ]
     },
     "metadata": {},
     "output_type": "display_data"
    },
    {
     "data": {
      "text/html": [
       "<pre style=\"white-space:pre;overflow-x:auto;line-height:normal;font-family:Menlo,'DejaVu Sans Mono',consolas,'Courier New',monospace\"><span style=\"font-weight: bold\"> Trainable params: </span><span style=\"color: #00af00; text-decoration-color: #00af00\">150,602</span> (588.29 KB)\n",
       "</pre>\n"
      ],
      "text/plain": [
       "\u001b[1m Trainable params: \u001b[0m\u001b[38;5;34m150,602\u001b[0m (588.29 KB)\n"
      ]
     },
     "metadata": {},
     "output_type": "display_data"
    },
    {
     "data": {
      "text/html": [
       "<pre style=\"white-space:pre;overflow-x:auto;line-height:normal;font-family:Menlo,'DejaVu Sans Mono',consolas,'Courier New',monospace\"><span style=\"font-weight: bold\"> Non-trainable params: </span><span style=\"color: #00af00; text-decoration-color: #00af00\">3</span> (16.00 B)\n",
       "</pre>\n"
      ],
      "text/plain": [
       "\u001b[1m Non-trainable params: \u001b[0m\u001b[38;5;34m3\u001b[0m (16.00 B)\n"
      ]
     },
     "metadata": {},
     "output_type": "display_data"
    },
    {
     "name": "stdout",
     "output_type": "stream",
     "text": [
      "============================================================\n",
      "\n",
      "--- Visualizing Architecture for: Wide_MLP_Model (Style: layered) ---\n"
     ]
    },
    {
     "data": {
      "image/png": "[encoded data removed]",
      "text/plain": [
       "<PIL.Image.Image image mode=RGBA size=336x758>"
      ]
     },
     "metadata": {},
     "output_type": "display_data"
    },
    {
     "data": {
      "text/html": [
       "<pre style=\"white-space:pre;overflow-x:auto;line-height:normal;font-family:Menlo,'DejaVu Sans Mono',consolas,'Courier New',monospace\"><span style=\"font-weight: bold\">Model: \"Wide_MLP_Model\"</span>\n",
       "</pre>\n"
      ],
      "text/plain": [
       "\u001b[1mModel: \"Wide_MLP_Model\"\u001b[0m\n"
      ]
     },
     "metadata": {},
     "output_type": "display_data"
    },
    {
     "data": {
      "text/html": [
       "<pre style=\"white-space:pre;overflow-x:auto;line-height:normal;font-family:Menlo,'DejaVu Sans Mono',consolas,'Courier New',monospace\">┏━━━━━━━━━━━━━━━━━━━━━━━━━━━━━━━━━┳━━━━━━━━━━━━━━━━━━━━━━━━┳━━━━━━━━━━━━━━━┓\n",
       "┃<span style=\"font-weight: bold\"> Layer (type)                    </span>┃<span style=\"font-weight: bold\"> Output Shape           </span>┃<span style=\"font-weight: bold\">       Param # </span>┃\n",
       "┡━━━━━━━━━━━━━━━━━━━━━━━━━━━━━━━━━╇━━━━━━━━━━━━━━━━━━━━━━━━╇━━━━━━━━━━━━━━━┩\n",
       "│ normalization_3 (<span style=\"color: #0087ff; text-decoration-color: #0087ff\">Normalization</span>) │ (<span style=\"color: #00d7ff; text-decoration-color: #00d7ff\">None</span>, <span style=\"color: #00af00; text-decoration-color: #00af00\">28</span>, <span style=\"color: #00af00; text-decoration-color: #00af00\">28</span>, <span style=\"color: #00af00; text-decoration-color: #00af00\">1</span>)      │             <span style=\"color: #00af00; text-decoration-color: #00af00\">3</span> │\n",
       "├─────────────────────────────────┼────────────────────────┼───────────────┤\n",
       "│ flatten_3 (<span style=\"color: #0087ff; text-decoration-color: #0087ff\">Flatten</span>)             │ (<span style=\"color: #00d7ff; text-decoration-color: #00d7ff\">None</span>, <span style=\"color: #00af00; text-decoration-color: #00af00\">784</span>)            │             <span style=\"color: #00af00; text-decoration-color: #00af00\">0</span> │\n",
       "├─────────────────────────────────┼────────────────────────┼───────────────┤\n",
       "│ dense_12 (<span style=\"color: #0087ff; text-decoration-color: #0087ff\">Dense</span>)                │ (<span style=\"color: #00d7ff; text-decoration-color: #00d7ff\">None</span>, <span style=\"color: #00af00; text-decoration-color: #00af00\">512</span>)            │       <span style=\"color: #00af00; text-decoration-color: #00af00\">401,920</span> │\n",
       "├─────────────────────────────────┼────────────────────────┼───────────────┤\n",
       "│ dense_13 (<span style=\"color: #0087ff; text-decoration-color: #0087ff\">Dense</span>)                │ (<span style=\"color: #00d7ff; text-decoration-color: #00d7ff\">None</span>, <span style=\"color: #00af00; text-decoration-color: #00af00\">1024</span>)           │       <span style=\"color: #00af00; text-decoration-color: #00af00\">525,312</span> │\n",
       "├─────────────────────────────────┼────────────────────────┼───────────────┤\n",
       "│ dense_14 (<span style=\"color: #0087ff; text-decoration-color: #0087ff\">Dense</span>)                │ (<span style=\"color: #00d7ff; text-decoration-color: #00d7ff\">None</span>, <span style=\"color: #00af00; text-decoration-color: #00af00\">256</span>)            │       <span style=\"color: #00af00; text-decoration-color: #00af00\">262,400</span> │\n",
       "├─────────────────────────────────┼────────────────────────┼───────────────┤\n",
       "│ dense_15 (<span style=\"color: #0087ff; text-decoration-color: #0087ff\">Dense</span>)                │ (<span style=\"color: #00d7ff; text-decoration-color: #00d7ff\">None</span>, <span style=\"color: #00af00; text-decoration-color: #00af00\">10</span>)             │         <span style=\"color: #00af00; text-decoration-color: #00af00\">2,570</span> │\n",
       "└─────────────────────────────────┴────────────────────────┴───────────────┘\n",
       "</pre>\n"
      ],
      "text/plain": [
       "┏━━━━━━━━━━━━━━━━━━━━━━━━━━━━━━━━━┳━━━━━━━━━━━━━━━━━━━━━━━━┳━━━━━━━━━━━━━━━┓\n",
       "┃\u001b[1m \u001b[0m\u001b[1mLayer (type)                   \u001b[0m\u001b[1m \u001b[0m┃\u001b[1m \u001b[0m\u001b[1mOutput Shape          \u001b[0m\u001b[1m \u001b[0m┃\u001b[1m \u001b[0m\u001b[1m      Param #\u001b[0m\u001b[1m \u001b[0m┃\n",
       "┡━━━━━━━━━━━━━━━━━━━━━━━━━━━━━━━━━╇━━━━━━━━━━━━━━━━━━━━━━━━╇━━━━━━━━━━━━━━━┩\n",
       "│ normalization_3 (\u001b[38;5;33mNormalization\u001b[0m) │ (\u001b[38;5;45mNone\u001b[0m, \u001b[38;5;34m28\u001b[0m, \u001b[38;5;34m28\u001b[0m, \u001b[38;5;34m1\u001b[0m)      │             \u001b[38;5;34m3\u001b[0m │\n",
       "├─────────────────────────────────┼────────────────────────┼───────────────┤\n",
       "│ flatten_3 (\u001b[38;5;33mFlatten\u001b[0m)             │ (\u001b[38;5;45mNone\u001b[0m, \u001b[38;5;34m784\u001b[0m)            │             \u001b[38;5;34m0\u001b[0m │\n",
       "├─────────────────────────────────┼────────────────────────┼───────────────┤\n",
       "│ dense_12 (\u001b[38;5;33mDense\u001b[0m)                │ (\u001b[38;5;45mNone\u001b[0m, \u001b[38;5;34m512\u001b[0m)            │       \u001b[38;5;34m401,920\u001b[0m │\n",
       "├─────────────────────────────────┼────────────────────────┼───────────────┤\n",
       "│ dense_13 (\u001b[38;5;33mDense\u001b[0m)                │ (\u001b[38;5;45mNone\u001b[0m, \u001b[38;5;34m1024\u001b[0m)           │       \u001b[38;5;34m525,312\u001b[0m │\n",
       "├─────────────────────────────────┼────────────────────────┼───────────────┤\n",
       "│ dense_14 (\u001b[38;5;33mDense\u001b[0m)                │ (\u001b[38;5;45mNone\u001b[0m, \u001b[38;5;34m256\u001b[0m)            │       \u001b[38;5;34m262,400\u001b[0m │\n",
       "├─────────────────────────────────┼────────────────────────┼───────────────┤\n",
       "│ dense_15 (\u001b[38;5;33mDense\u001b[0m)                │ (\u001b[38;5;45mNone\u001b[0m, \u001b[38;5;34m10\u001b[0m)             │         \u001b[38;5;34m2,570\u001b[0m │\n",
       "└─────────────────────────────────┴────────────────────────┴───────────────┘\n"
      ]
     },
     "metadata": {},
     "output_type": "display_data"
    },
    {
     "data": {
      "text/html": [
       "<pre style=\"white-space:pre;overflow-x:auto;line-height:normal;font-family:Menlo,'DejaVu Sans Mono',consolas,'Courier New',monospace\"><span style=\"font-weight: bold\"> Total params: </span><span style=\"color: #00af00; text-decoration-color: #00af00\">1,192,205</span> (4.55 MB)\n",
       "</pre>\n"
      ],
      "text/plain": [
       "\u001b[1m Total params: \u001b[0m\u001b[38;5;34m1,192,205\u001b[0m (4.55 MB)\n"
      ]
     },
     "metadata": {},
     "output_type": "display_data"
    },
    {
     "data": {
      "text/html": [
       "<pre style=\"white-space:pre;overflow-x:auto;line-height:normal;font-family:Menlo,'DejaVu Sans Mono',consolas,'Courier New',monospace\"><span style=\"font-weight: bold\"> Trainable params: </span><span style=\"color: #00af00; text-decoration-color: #00af00\">1,192,202</span> (4.55 MB)\n",
       "</pre>\n"
      ],
      "text/plain": [
       "\u001b[1m Trainable params: \u001b[0m\u001b[38;5;34m1,192,202\u001b[0m (4.55 MB)\n"
      ]
     },
     "metadata": {},
     "output_type": "display_data"
    },
    {
     "data": {
      "text/html": [
       "<pre style=\"white-space:pre;overflow-x:auto;line-height:normal;font-family:Menlo,'DejaVu Sans Mono',consolas,'Courier New',monospace\"><span style=\"font-weight: bold\"> Non-trainable params: </span><span style=\"color: #00af00; text-decoration-color: #00af00\">3</span> (16.00 B)\n",
       "</pre>\n"
      ],
      "text/plain": [
       "\u001b[1m Non-trainable params: \u001b[0m\u001b[38;5;34m3\u001b[0m (16.00 B)\n"
      ]
     },
     "metadata": {},
     "output_type": "display_data"
    },
    {
     "name": "stdout",
     "output_type": "stream",
     "text": [
      "============================================================\n",
      "\n",
      "--- Visualizing Architecture for: Deep_MLP_Model (Style: layered) ---\n"
     ]
    },
    {
     "data": {
      "image/png": "[encoded data removed]",
      "text/plain": [
       "<PIL.Image.Image image mode=RGBA size=536x704>"
      ]
     },
     "metadata": {},
     "output_type": "display_data"
    },
    {
     "data": {
      "text/html": [
       "<pre style=\"white-space:pre;overflow-x:auto;line-height:normal;font-family:Menlo,'DejaVu Sans Mono',consolas,'Courier New',monospace\"><span style=\"font-weight: bold\">Model: \"Deep_MLP_Model\"</span>\n",
       "</pre>\n"
      ],
      "text/plain": [
       "\u001b[1mModel: \"Deep_MLP_Model\"\u001b[0m\n"
      ]
     },
     "metadata": {},
     "output_type": "display_data"
    },
    {
     "data": {
      "text/html": [
       "<pre style=\"white-space:pre;overflow-x:auto;line-height:normal;font-family:Menlo,'DejaVu Sans Mono',consolas,'Courier New',monospace\">┏━━━━━━━━━━━━━━━━━━━━━━━━━━━━━━━━━┳━━━━━━━━━━━━━━━━━━━━━━━━┳━━━━━━━━━━━━━━━┓\n",
       "┃<span style=\"font-weight: bold\"> Layer (type)                    </span>┃<span style=\"font-weight: bold\"> Output Shape           </span>┃<span style=\"font-weight: bold\">       Param # </span>┃\n",
       "┡━━━━━━━━━━━━━━━━━━━━━━━━━━━━━━━━━╇━━━━━━━━━━━━━━━━━━━━━━━━╇━━━━━━━━━━━━━━━┩\n",
       "│ normalization_4 (<span style=\"color: #0087ff; text-decoration-color: #0087ff\">Normalization</span>) │ (<span style=\"color: #00d7ff; text-decoration-color: #00d7ff\">None</span>, <span style=\"color: #00af00; text-decoration-color: #00af00\">28</span>, <span style=\"color: #00af00; text-decoration-color: #00af00\">28</span>, <span style=\"color: #00af00; text-decoration-color: #00af00\">1</span>)      │             <span style=\"color: #00af00; text-decoration-color: #00af00\">3</span> │\n",
       "├─────────────────────────────────┼────────────────────────┼───────────────┤\n",
       "│ flatten_4 (<span style=\"color: #0087ff; text-decoration-color: #0087ff\">Flatten</span>)             │ (<span style=\"color: #00d7ff; text-decoration-color: #00d7ff\">None</span>, <span style=\"color: #00af00; text-decoration-color: #00af00\">784</span>)            │             <span style=\"color: #00af00; text-decoration-color: #00af00\">0</span> │\n",
       "├─────────────────────────────────┼────────────────────────┼───────────────┤\n",
       "│ dense_16 (<span style=\"color: #0087ff; text-decoration-color: #0087ff\">Dense</span>)                │ (<span style=\"color: #00d7ff; text-decoration-color: #00d7ff\">None</span>, <span style=\"color: #00af00; text-decoration-color: #00af00\">128</span>)            │       <span style=\"color: #00af00; text-decoration-color: #00af00\">100,480</span> │\n",
       "├─────────────────────────────────┼────────────────────────┼───────────────┤\n",
       "│ dense_17 (<span style=\"color: #0087ff; text-decoration-color: #0087ff\">Dense</span>)                │ (<span style=\"color: #00d7ff; text-decoration-color: #00d7ff\">None</span>, <span style=\"color: #00af00; text-decoration-color: #00af00\">256</span>)            │        <span style=\"color: #00af00; text-decoration-color: #00af00\">33,024</span> │\n",
       "├─────────────────────────────────┼────────────────────────┼───────────────┤\n",
       "│ dense_18 (<span style=\"color: #0087ff; text-decoration-color: #0087ff\">Dense</span>)                │ (<span style=\"color: #00d7ff; text-decoration-color: #00d7ff\">None</span>, <span style=\"color: #00af00; text-decoration-color: #00af00\">256</span>)            │        <span style=\"color: #00af00; text-decoration-color: #00af00\">65,792</span> │\n",
       "├─────────────────────────────────┼────────────────────────┼───────────────┤\n",
       "│ dense_19 (<span style=\"color: #0087ff; text-decoration-color: #0087ff\">Dense</span>)                │ (<span style=\"color: #00d7ff; text-decoration-color: #00d7ff\">None</span>, <span style=\"color: #00af00; text-decoration-color: #00af00\">256</span>)            │        <span style=\"color: #00af00; text-decoration-color: #00af00\">65,792</span> │\n",
       "├─────────────────────────────────┼────────────────────────┼───────────────┤\n",
       "│ dense_20 (<span style=\"color: #0087ff; text-decoration-color: #0087ff\">Dense</span>)                │ (<span style=\"color: #00d7ff; text-decoration-color: #00d7ff\">None</span>, <span style=\"color: #00af00; text-decoration-color: #00af00\">256</span>)            │        <span style=\"color: #00af00; text-decoration-color: #00af00\">65,792</span> │\n",
       "├─────────────────────────────────┼────────────────────────┼───────────────┤\n",
       "│ dense_21 (<span style=\"color: #0087ff; text-decoration-color: #0087ff\">Dense</span>)                │ (<span style=\"color: #00d7ff; text-decoration-color: #00d7ff\">None</span>, <span style=\"color: #00af00; text-decoration-color: #00af00\">64</span>)             │        <span style=\"color: #00af00; text-decoration-color: #00af00\">16,448</span> │\n",
       "├─────────────────────────────────┼────────────────────────┼───────────────┤\n",
       "│ dense_22 (<span style=\"color: #0087ff; text-decoration-color: #0087ff\">Dense</span>)                │ (<span style=\"color: #00d7ff; text-decoration-color: #00d7ff\">None</span>, <span style=\"color: #00af00; text-decoration-color: #00af00\">32</span>)             │         <span style=\"color: #00af00; text-decoration-color: #00af00\">2,080</span> │\n",
       "├─────────────────────────────────┼────────────────────────┼───────────────┤\n",
       "│ dense_23 (<span style=\"color: #0087ff; text-decoration-color: #0087ff\">Dense</span>)                │ (<span style=\"color: #00d7ff; text-decoration-color: #00d7ff\">None</span>, <span style=\"color: #00af00; text-decoration-color: #00af00\">10</span>)             │           <span style=\"color: #00af00; text-decoration-color: #00af00\">330</span> │\n",
       "└─────────────────────────────────┴────────────────────────┴───────────────┘\n",
       "</pre>\n"
      ],
      "text/plain": [
       "┏━━━━━━━━━━━━━━━━━━━━━━━━━━━━━━━━━┳━━━━━━━━━━━━━━━━━━━━━━━━┳━━━━━━━━━━━━━━━┓\n",
       "┃\u001b[1m \u001b[0m\u001b[1mLayer (type)                   \u001b[0m\u001b[1m \u001b[0m┃\u001b[1m \u001b[0m\u001b[1mOutput Shape          \u001b[0m\u001b[1m \u001b[0m┃\u001b[1m \u001b[0m\u001b[1m      Param #\u001b[0m\u001b[1m \u001b[0m┃\n",
       "┡━━━━━━━━━━━━━━━━━━━━━━━━━━━━━━━━━╇━━━━━━━━━━━━━━━━━━━━━━━━╇━━━━━━━━━━━━━━━┩\n",
       "│ normalization_4 (\u001b[38;5;33mNormalization\u001b[0m) │ (\u001b[38;5;45mNone\u001b[0m, \u001b[38;5;34m28\u001b[0m, \u001b[38;5;34m28\u001b[0m, \u001b[38;5;34m1\u001b[0m)      │             \u001b[38;5;34m3\u001b[0m │\n",
       "├─────────────────────────────────┼────────────────────────┼───────────────┤\n",
       "│ flatten_4 (\u001b[38;5;33mFlatten\u001b[0m)             │ (\u001b[38;5;45mNone\u001b[0m, \u001b[38;5;34m784\u001b[0m)            │             \u001b[38;5;34m0\u001b[0m │\n",
       "├─────────────────────────────────┼────────────────────────┼───────────────┤\n",
       "│ dense_16 (\u001b[38;5;33mDense\u001b[0m)                │ (\u001b[38;5;45mNone\u001b[0m, \u001b[38;5;34m128\u001b[0m)            │       \u001b[38;5;34m100,480\u001b[0m │\n",
       "├─────────────────────────────────┼────────────────────────┼───────────────┤\n",
       "│ dense_17 (\u001b[38;5;33mDense\u001b[0m)                │ (\u001b[38;5;45mNone\u001b[0m, \u001b[38;5;34m256\u001b[0m)            │        \u001b[38;5;34m33,024\u001b[0m │\n",
       "├─────────────────────────────────┼────────────────────────┼───────────────┤\n",
       "│ dense_18 (\u001b[38;5;33mDense\u001b[0m)                │ (\u001b[38;5;45mNone\u001b[0m, \u001b[38;5;34m256\u001b[0m)            │        \u001b[38;5;34m65,792\u001b[0m │\n",
       "├─────────────────────────────────┼────────────────────────┼───────────────┤\n",
       "│ dense_19 (\u001b[38;5;33mDense\u001b[0m)                │ (\u001b[38;5;45mNone\u001b[0m, \u001b[38;5;34m256\u001b[0m)            │        \u001b[38;5;34m65,792\u001b[0m │\n",
       "├─────────────────────────────────┼────────────────────────┼───────────────┤\n",
       "│ dense_20 (\u001b[38;5;33mDense\u001b[0m)                │ (\u001b[38;5;45mNone\u001b[0m, \u001b[38;5;34m256\u001b[0m)            │        \u001b[38;5;34m65,792\u001b[0m │\n",
       "├─────────────────────────────────┼────────────────────────┼───────────────┤\n",
       "│ dense_21 (\u001b[38;5;33mDense\u001b[0m)                │ (\u001b[38;5;45mNone\u001b[0m, \u001b[38;5;34m64\u001b[0m)             │        \u001b[38;5;34m16,448\u001b[0m │\n",
       "├─────────────────────────────────┼────────────────────────┼───────────────┤\n",
       "│ dense_22 (\u001b[38;5;33mDense\u001b[0m)                │ (\u001b[38;5;45mNone\u001b[0m, \u001b[38;5;34m32\u001b[0m)             │         \u001b[38;5;34m2,080\u001b[0m │\n",
       "├─────────────────────────────────┼────────────────────────┼───────────────┤\n",
       "│ dense_23 (\u001b[38;5;33mDense\u001b[0m)                │ (\u001b[38;5;45mNone\u001b[0m, \u001b[38;5;34m10\u001b[0m)             │           \u001b[38;5;34m330\u001b[0m │\n",
       "└─────────────────────────────────┴────────────────────────┴───────────────┘\n"
      ]
     },
     "metadata": {},
     "output_type": "display_data"
    },
    {
     "data": {
      "text/html": [
       "<pre style=\"white-space:pre;overflow-x:auto;line-height:normal;font-family:Menlo,'DejaVu Sans Mono',consolas,'Courier New',monospace\"><span style=\"font-weight: bold\"> Total params: </span><span style=\"color: #00af00; text-decoration-color: #00af00\">349,741</span> (1.33 MB)\n",
       "</pre>\n"
      ],
      "text/plain": [
       "\u001b[1m Total params: \u001b[0m\u001b[38;5;34m349,741\u001b[0m (1.33 MB)\n"
      ]
     },
     "metadata": {},
     "output_type": "display_data"
    },
    {
     "data": {
      "text/html": [
       "<pre style=\"white-space:pre;overflow-x:auto;line-height:normal;font-family:Menlo,'DejaVu Sans Mono',consolas,'Courier New',monospace\"><span style=\"font-weight: bold\"> Trainable params: </span><span style=\"color: #00af00; text-decoration-color: #00af00\">349,738</span> (1.33 MB)\n",
       "</pre>\n"
      ],
      "text/plain": [
       "\u001b[1m Trainable params: \u001b[0m\u001b[38;5;34m349,738\u001b[0m (1.33 MB)\n"
      ]
     },
     "metadata": {},
     "output_type": "display_data"
    },
    {
     "data": {
      "text/html": [
       "<pre style=\"white-space:pre;overflow-x:auto;line-height:normal;font-family:Menlo,'DejaVu Sans Mono',consolas,'Courier New',monospace\"><span style=\"font-weight: bold\"> Non-trainable params: </span><span style=\"color: #00af00; text-decoration-color: #00af00\">3</span> (16.00 B)\n",
       "</pre>\n"
      ],
      "text/plain": [
       "\u001b[1m Non-trainable params: \u001b[0m\u001b[38;5;34m3\u001b[0m (16.00 B)\n"
      ]
     },
     "metadata": {},
     "output_type": "display_data"
    },
    {
     "name": "stdout",
     "output_type": "stream",
     "text": [
      "============================================================\n",
      "\n"
     ]
    }
   ],
   "source": [
    "# # Now, loop through, create each model \"on the fly\", and plot it\n",
    "\n",
    "for model_creation_function in mlp_model_functions:\n",
    "    # 1. Create the model instance from the function\n",
    "    model_instance = model_creation_function()\n",
    "\n",
    "    # Manually build the model with the correct input shape.\n",
    "    # The `None` indicates a variable batch size. In the case of the MLP, this is an irrelevant parameter. None prevents this code from crashing for MLP models. \n",
    "    model_instance.build(input_shape=(None, 28, 28, 1)) \n",
    "\n",
    "    # 2. Call the plotting function to visualize it\n",
    "    visualise_model(model_instance, style='layered')\n",
    "    \n",
    "    # 3. Print the model summary.\n",
    "    model_instance.summary()\n",
    "\n",
    "    # Where are the activation functions stored?\n",
    "\n",
    "    \n",
    "    print(\"=\"*60 + \"\\n\") # Add a separator for clarity"
   ]
  },
  {
   "cell_type": "markdown",
   "id": "3de90471",
   "metadata": {},
   "source": [
    "## Plotting the CNN models"
   ]
  },
  {
   "cell_type": "code",
   "execution_count": 23,
   "id": "5de9b87c",
   "metadata": {},
   "outputs": [
    {
     "name": "stdout",
     "output_type": "stream",
     "text": [
      "--- Visualizing Architecture for: Base_CNN (Style: layered) ---\n"
     ]
    },
    {
     "data": {
      "image/png": "[encoded data removed]",
      "text/plain": [
       "<PIL.Image.Image image mode=RGBA size=740x588>"
      ]
     },
     "metadata": {},
     "output_type": "display_data"
    },
    {
     "name": "stdout",
     "output_type": "stream",
     "text": [
      "============================================================\n",
      "\n",
      "--- Visualizing Architecture for: CNN_with_Dropout (Style: layered) ---\n"
     ]
    },
    {
     "data": {
      "image/png": "[encoded data removed]",
      "text/plain": [
       "<PIL.Image.Image image mode=RGBA size=740x588>"
      ]
     },
     "metadata": {},
     "output_type": "display_data"
    },
    {
     "name": "stdout",
     "output_type": "stream",
     "text": [
      "============================================================\n",
      "\n",
      "--- Visualizing Architecture for: Wide_CNN_Model (Style: layered) ---\n"
     ]
    },
    {
     "data": {
      "image/png": "[encoded data removed]",
      "text/plain": [
       "<PIL.Image.Image image mode=RGBA size=1124x704>"
      ]
     },
     "metadata": {},
     "output_type": "display_data"
    },
    {
     "name": "stdout",
     "output_type": "stream",
     "text": [
      "============================================================\n",
      "\n"
     ]
    }
   ],
   "source": [
    "# # Now, loop through, create each model \"on the fly\", and plot it\n",
    "\n",
    "for model_creation_function in cnn_model_functions:\n",
    "    # 1. Create the model instance from the function\n",
    "    model_instance = model_creation_function()\n",
    "\n",
    "    # Manually build the model with the correct input shape.\n",
    "    # The `None` indicates a variable batch size. In the case of the MLP, this is an irrelevant parameter. None prevents this code from crashing for MLP models. \n",
    "    model_instance.build(input_shape=(None, 28, 28, 1)) \n",
    "\n",
    "    # 2. Call the plotting function to visualize it\n",
    "    visualise_model(model_instance, style='layered')\n",
    "    \n",
    "    print(\"=\"*60 + \"\\n\") # Add a separator for clarity"
   ]
  },
  {
   "cell_type": "markdown",
   "id": "1ff3125e",
   "metadata": {},
   "source": [
    "## Defining hyperparameters for the CNN models"
   ]
  },
  {
   "cell_type": "code",
   "execution_count": 24,
   "id": "d6292216",
   "metadata": {},
   "outputs": [],
   "source": [
    "# --- Define Hyperparameter Set for the CNN models ---\n",
    "cnn_epochs = 100\n",
    "cnn_batch_size = 64\n",
    "cnn_exp_1_config = {\n",
    "    \"optimiser\": \"Adam\",\n",
    "    \"learning_rate\": 0.01,\n",
    "    \"epochs\": cnn_epochs,\n",
    "    \"batch_size\": cnn_batch_size\n",
    "}\n",
    "cnn_exp_2_config = {\n",
    "    \"optimiser\": \"Adam\",\n",
    "    \"learning_rate\": 0.001,\n",
    "    \"epochs\": cnn_epochs,\n",
    "    \"batch_size\": cnn_batch_size\n",
    "}\n",
    "\n",
    "cnn_exp_3_config = {\n",
    "    \"optimiser\": \"SGD\",\n",
    "    \"learning_rate\": 0.01,\n",
    "    \"epochs\": cnn_epochs,\n",
    "    \"batch_size\": cnn_batch_size\n",
    "}\n",
    "\n",
    "cnn_exp_4_config = {\n",
    "    \"optimiser\": \"SGD\",\n",
    "    \"learning_rate\": 0.001,\n",
    "    \"epochs\": cnn_epochs,\n",
    "    \"batch_size\": cnn_batch_size\n",
    "}\n",
    "\n",
    "cnn_config = [cnn_exp_2_config, cnn_exp_3_config, cnn_exp_4_config]\n",
    "# cnn_exp_1_config,  We do not need to include the cnn_exp_1_config, because we have already run this on all models. \n",
    "# In the cell below, setting the all_exp_params is a flag that ensure that when set to True, all models are trained on all parameters (computationally intensive)"
   ]
  },
  {
   "cell_type": "code",
   "execution_count": 25,
   "id": "9c47ebb6",
   "metadata": {},
   "outputs": [],
   "source": [
    "run_cnn_experiments = False # A simple flag to control whether we run the CNN experiments or not. This is convenient because CNN experiments take longer to run.\n",
    "# and when we restart the notebook, we might want to just run the MLP experiments first.\n",
    "all_exp_params = True\n",
    "\n",
    "# --- Run the full list of experiments ---\n",
    "if run_cnn_experiments:\n",
    "    cnn_histories = []\n",
    "    for cnn_model_function in cnn_model_functions:\n",
    "        if not all_exp_params:\n",
    "            cnn_history = run_experiment(\n",
    "                model_creation_func=cnn_model_function, \n",
    "                hyperparameters=cnn_exp_1_config,  # If we do not set the all experiment parameters to True, then we only need the 1 config file. \n",
    "                parent_folder='CNN_Models',\n",
    "                X_train=X_train,\n",
    "                Y_train=Y_train,\n",
    "            )\n",
    "        else:\n",
    "            for config in cnn_config:\n",
    "                cnn_history = run_experiment(\n",
    "                    model_creation_func=cnn_model_function, \n",
    "                    hyperparameters=config, \n",
    "                    parent_folder='CNN_Models',\n",
    "                    X_train=X_train,\n",
    "                    Y_train=Y_train,\n",
    "                )\n",
    "\n",
    "        cnn_histories.append(cnn_history)\n",
    "\n",
    "# # --- To run the second experiment, we just call it again with a different config (hyper parameter set) :-)\n",
    "# --- We first  test different model architectures before running more experiments with different hyperparameters (Part 1 Task 1 & 2). ---\n",
    "# --- THen we test the best performing model of Part 1 Task 1& 2 with different hyperparameters. ---"
   ]
  },
  {
   "cell_type": "code",
   "execution_count": 26,
   "id": "85c387c5",
   "metadata": {},
   "outputs": [],
   "source": [
    "# # --- Define the Plotting Function  ---\n",
    "\n",
    "# def plot_training_history(history: History):\n",
    "#     \"\"\"\n",
    "#     Plots training history and automatically extracts hyperparameters \n",
    "#     from the history object itself.\n",
    "#     \"\"\"\n",
    "#     # --- Extract the hyperparameters that we attached ---\n",
    "#     # We can now access them directly from the history object!\n",
    "#     config = history.hyperparameters\n",
    "    \n",
    "#     optimizer_name = config.get('optimiser', 'N/A')\n",
    "#     learning_rate = config.get('learning_rate', 'N/A')\n",
    "#     batch_size = config.get('batch_size', 'N/A')\n",
    "\n",
    "#     # --- Create the subtitle for the plots ---\n",
    "#     subtitle = f\"Optimizer: {optimizer_name}, LR: {learning_rate}, Batch Size: {batch_size}\"\n",
    "\n",
    "#     # --- Plotting Code (Same as before) ---\n",
    "#     plt.figure(figsize=(12, 5))\n",
    "#     plt.suptitle(f'{history.model.name}\\n{subtitle}') # Main title with subtitle\n",
    "\n",
    "#     # Accuracy Plot\n",
    "#     plt.subplot(1, 2, 1)\n",
    "#     plt.plot(history.history['accuracy'], label='Train Accuracy')\n",
    "#     plt.plot(history.history['val_accuracy'], label='Validation Accuracy')\n",
    "#     plt.title('Model Accuracy')\n",
    "#     plt.ylabel('Accuracy')\n",
    "#     plt.xlabel('Epoch')\n",
    "#     plt.legend(loc='upper left')\n",
    "\n",
    "#     # Loss Plot\n",
    "#     plt.subplot(1, 2, 2)\n",
    "#     plt.plot(history.history['loss'], label='Train Loss')\n",
    "#     plt.plot(history.history['val_loss'], label='Validation Loss')\n",
    "#     plt.title('Model Loss')\n",
    "#     plt.ylabel('Loss')\n",
    "#     plt.xlabel('Epoch')\n",
    "#     plt.legend(loc='upper right')\n",
    "    \n",
    "#     plt.tight_layout(rect=[0, 0.03, 1, 0.95]) # Adjust layout to make room for subtitle\n",
    "#     plt.show()\n",
    "\n",
    "\n",
    "def plot_training_history(history_data):\n",
    "    \"\"\"\n",
    "    Plots training history from either a Keras History object or a WandB Run object.\n",
    "    \n",
    "    Args:\n",
    "        history_data: A Keras History object from a training run or a wandb.Run object\n",
    "                      from a downloaded experiment.\n",
    "    \"\"\"\n",
    "    # Check if the input is a Keras History object (from live training)\n",
    "    if isinstance(history_data, History):\n",
    "        # Extract data directly from the History object's dictionary\n",
    "        history_dict = history_data.history\n",
    "        # Extract hyperparameters from the custom attribute we attached\n",
    "        config = history_data.hyperparameters\n",
    "        # Get the model's name from the History object\n",
    "        run_name = history_data.model.name\n",
    "    \n",
    "    # Check if the input is a WandB Run object (from downloaded data)\n",
    "    elif isinstance(history_data, wandb.apis.public.Run):\n",
    "        # Get the run history as a Pandas DataFrame\n",
    "        history_df = history_data.history()\n",
    "        # Extract hyperparameters from the run's config\n",
    "        config = history_data.config\n",
    "        # Get the run's name from the WandB Run object\n",
    "        run_name = history_data.name\n",
    "        # The dataframe needs to be converted to a dictionary for the plotting code to work\n",
    "        history_dict = history_df.to_dict('list')\n",
    "\n",
    "    # If the input type is not supported, print an error\n",
    "    else:\n",
    "        print(\"Error: Unsupported data type. Please provide a Keras History or wandb.Run object.\")\n",
    "        return\n",
    "\n",
    "    # --- Extract and Format Hyperparameters ---\n",
    "    optimizer_name = config.get('optimiser', 'N/A')\n",
    "    learning_rate = config.get('learning_rate', 'N/A')\n",
    "    batch_size = config.get('batch_size', 'N/A')\n",
    "    subtitle = f\"Optimizer: {optimizer_name}, LR: {learning_rate}, Batch Size: {batch_size}\"\n",
    "\n",
    "    # --- Plotting Code ---\n",
    "    plt.figure(figsize=(12, 5))\n",
    "    plt.suptitle(f'{run_name}\\n{subtitle}')\n",
    "\n",
    "    # Accuracy Plot\n",
    "    plt.subplot(1, 2, 1)\n",
    "    plt.plot(history_dict.get('accuracy'), label='Train Accuracy')\n",
    "    plt.plot(history_dict.get('val_accuracy'), label='Validation Accuracy')\n",
    "    plt.title('Model Accuracy')\n",
    "    plt.ylabel('Accuracy')\n",
    "    plt.xlabel('Epoch')\n",
    "    plt.legend(loc='upper left')\n",
    "\n",
    "    # Loss Plot\n",
    "    plt.subplot(1, 2, 2)\n",
    "    plt.plot(history_dict.get('loss'), label='Train Loss')\n",
    "    plt.plot(history_dict.get('val_loss'), label='Validation Loss')\n",
    "    plt.title('Model Loss')\n",
    "    plt.ylabel('Loss')\n",
    "    plt.xlabel('Epoch')\n",
    "    plt.legend(loc='upper right')\n",
    "    \n",
    "    plt.tight_layout(rect=[0, 0.03, 1, 0.95])\n",
    "    plt.show()"
   ]
  },
  {
   "cell_type": "markdown",
   "id": "8f08790f",
   "metadata": {},
   "source": [
    "### Plot the results of every epoch\n",
    "\n",
    "1. Using History objects"
   ]
  },
  {
   "cell_type": "code",
   "execution_count": 32,
   "id": "ca0f9341",
   "metadata": {},
   "outputs": [],
   "source": [
    "# A simple wrapper function to print all histories in a list.\n",
    "def print_training_histories(histories):\n",
    "    print(f\"The number of models to plot: {len(histories)}\")\n",
    "    for history in histories:\n",
    "        print(f\"Model number: {histories.index(history)+1}\")\n",
    "        plot_training_history(history)\n",
    "        print(\"-\"*100)\n",
    "\n",
    "if run_mlp_experiments:\n",
    "    print_training_histories(mlp_histories)\n",
    "if run_cnn_experiments:\n",
    "    print_training_histories(cnn_histories)\n"
   ]
  },
  {
   "cell_type": "markdown",
   "id": "49f9e3f6",
   "metadata": {},
   "source": [
    "2. Using WandNB run objects"
   ]
  },
  {
   "cell_type": "code",
   "execution_count": 34,
   "id": "b933d413",
   "metadata": {},
   "outputs": [],
   "source": [
    "import os\n",
    "import pandas as pd\n",
    "import yaml\n",
    "from types import SimpleNamespace\n",
    "\n",
    "def load_local_run_data(run_folder_path: str):\n",
    "    \"\"\"\n",
    "    Loads run history and configuration from a local WandB run folder.\n",
    "    \n",
    "    Args:\n",
    "        run_folder_path (str): The local path to a specific run folder.\n",
    "        \n",
    "    Returns:\n",
    "        SimpleNamespace: A namespace object mimicking a wandb.Run object,\n",
    "                         containing 'name', 'config', and a 'history' DataFrame.\n",
    "    \"\"\"\n",
    "    # 1. Verify the folder exists\n",
    "    if not os.path.isdir(run_folder_path):\n",
    "        print(f\"Error: Run folder not found at '{run_folder_path}'.\")\n",
    "        return None\n",
    "\n",
    "    # 2. Construct file paths for the history and config files\n",
    "    # The 'files' subdirectory is where WandB stores the logged data.\n",
    "    files_dir = os.path.join(run_folder_path, 'files')\n",
    "    history_file = os.path.join(files_dir, 'run_history.csv')\n",
    "    config_file = os.path.join(files_dir, 'config.yaml')\n",
    "\n",
    "    # 3. Load the data from the local files\n",
    "    try:\n",
    "        # Load the training history from the CSV file into a pandas DataFrame.\n",
    "        history_df = pd.read_csv(history_file)\n",
    "        \n",
    "        # Load the hyperparameters from the YAML file into a dictionary.\n",
    "        with open(config_file, 'r') as f:\n",
    "            config = yaml.safe_load(f)\n",
    "            # The config file in wandb stores values in a nested structure under 'value'\n",
    "            # We need to extract just the values.\n",
    "            config_data = {k: v['value'] for k, v in config.items() if 'value' in v}\n",
    "\n",
    "    except FileNotFoundError as e:\n",
    "        print(f\"Error: A required file was not found. Please ensure your data is downloaded correctly. {e}\")\n",
    "        return None\n",
    "\n",
    "    # 4. Reconstruct a simple object for compatibility with your plotting function\n",
    "    run_name = os.path.basename(run_folder_path)\n",
    "    return SimpleNamespace(\n",
    "        name=run_name,\n",
    "        config=config_data,\n",
    "        history=history_df\n",
    "    )"
   ]
  },
  {
   "cell_type": "code",
   "execution_count": 35,
   "id": "f13ea8f8",
   "metadata": {},
   "outputs": [
    {
     "name": "stdout",
     "output_type": "stream",
     "text": [
      "Error: A required file was not found. Please ensure your data is downloaded correctly. [Errno 2] No such file or directory: 'c:\\\\Users\\\\TimVos\\\\VSC Projects\\\\CSE5ML\\\\Assessment 2\\\\WandB_downloads\\\\Base_CNN-lr_0.001-bs_64-20250914-150358\\\\files\\\\run_history.csv'\n"
     ]
    }
   ],
   "source": [
    "# Assuming our downloaded runs are in a folder named 'WandB_downloads'.\n",
    "wandb_downloads_path = os.path.join(os.getcwd(), 'WandB_downloads')\n",
    "run_folders = [d for d in os.listdir(wandb_downloads_path) if os.path.isdir(os.path.join(wandb_downloads_path, d))]\n",
    "\n",
    "if run_folders:\n",
    "    # Load the data for a specific run. We'll use the first one found.\n",
    "    first_run_path = os.path.join(wandb_downloads_path, run_folders[0])\n",
    "    local_run = load_local_run_data(first_run_path)\n",
    "    \n",
    "    # If the data was loaded successfully, you can now plot it.\n",
    "    if local_run:\n",
    "        # You would need to modify your plot_training_history() to handle this SimpleNamespace object.\n",
    "        # But this is the key step: you are now working with local data.\n",
    "        print(f\"Loaded local run '{local_run.name}' with config: {local_run.config}\")\n",
    "        # Call your plotting function here\n",
    "        # plot_training_history(local_run)"
   ]
  },
  {
   "cell_type": "markdown",
   "id": "48cab5e2",
   "metadata": {},
   "source": [
    "## Testing the models on the held-out test set\n",
    "We test the model on the test data, which is data that the model has never seen before. Then we verify the model's real-world accuracy. It is expected that this does not deviate much from the validation sets, because the MNIST dataset contains images that are very clean and simple:\n",
    "- They are small (28 x 28 pixels only).\n",
    "- The digits are centered and normalised in size.\n",
    "- The background is a solid colour with no distracting noise.\n",
    "  \n",
    "Because of this simplicity, the patterns that differentiate one digit from another (e.g., a \"1\" is a vertical line, an \"8\" is two loops) are very strong and easy for our model to learn."
   ]
  },
  {
   "cell_type": "markdown",
   "id": "bb7af8a5",
   "metadata": {},
   "source": [
    "First we define a function that browser to a folder with saved models, extracts the file with the highest validation accuracy in its name, loads it and tests it with the held-out X_test and Y_test. \n",
    "\n",
    "A function is convenient because we will use it on different models, with different hyperparameters and hence, avoid repetition. "
   ]
  },
  {
   "cell_type": "code",
   "execution_count": 28,
   "id": "7c29410f",
   "metadata": {},
   "outputs": [],
   "source": [
    "def find_load_and_analyse_best_model(\n",
    "    parent_folder: str, # Changed name for clarity\n",
    "    x_test_data: NDArray[np.float32], \n",
    "    y_test_data: NDArray[np.int_]\n",
    ") -> Tuple[tf.keras.Model | None, float | None, float | None]:\n",
    "    \"\"\"\n",
    "    Recursively searches through all subfolders in a parent directory to find the\n",
    "    single best Keras model, then loads and analyses it.\n",
    "    \"\"\"\n",
    "    best_model_path = None # We will now store the full path directly\n",
    "    best_val_accuracy = -1.0\n",
    "\n",
    "    pattern = re.compile(r\"val_acc-([\\d.]+)\\.keras\")\n",
    "\n",
    "    if not os.path.isdir(parent_folder):\n",
    "        print(f\"Error: Parent directory not found at '{parent_folder}'\")\n",
    "        return None, None, None\n",
    "\n",
    "    # --- NEW: Use os.walk() to search through all subdirectories ---\n",
    "    # os.walk() goes through a directory tree top-down.\n",
    "    for dirpath, _, filenames in os.walk(parent_folder):\n",
    "        for filename in filenames:\n",
    "            match = pattern.search(filename)\n",
    "            if match:\n",
    "                val_accuracy = float(match.group(1))\n",
    "                if val_accuracy > best_val_accuracy:\n",
    "                    best_val_accuracy = val_accuracy\n",
    "                    # Construct and store the full path to this new best model\n",
    "                    best_model_path = os.path.join(dirpath, filename)\n",
    "    \n",
    "    # The rest of the function works perfectly, we just need to use best_model_path\n",
    "    if best_model_path:\n",
    "        print(f\"Found and loading best model across all experiments: {best_model_path}\")\n",
    "        \n",
    "        loaded_model = tf.keras.models.load_model(best_model_path)\n",
    "        \n",
    "        # --- Print Compiled Hyperparameters ---\n",
    "        print(\"\\n--- Key Hyperparameters ---\")\n",
    "        # Gets the configuration of the model's optimiser.\n",
    "        optimiser_config = loaded_model.optimizer.get_config()\n",
    "        optimiser_name = optimiser_config['name']\n",
    "        learning_rate = optimiser_config['learning_rate']\n",
    "        \n",
    "        # Gets the name of the loss function the model was compiled with.\n",
    "        loss_function = loaded_model.loss\n",
    "        \n",
    "        print(f\"{'Optimiser:':<20} {optimiser_name}\")\n",
    "        print(f\"{'Learning Rate:':<20} {learning_rate}\")\n",
    "        print(f\"{'Loss Function:':<20} {loss_function}\")\n",
    "        \n",
    "        # Prints a summary table of the model's architecture.\n",
    "        print(\"\\n--- Best Model Summary (Architecture) ---\")\n",
    "        loaded_model.summary()\n",
    "\n",
    "        # Evaluates the loaded model's performance on the unseen test data.\n",
    "        print(\"\\n--- Evaluating model performance on the test set ---\")\n",
    "        loss, accuracy = loaded_model.evaluate(x_test_data, y_test_data, verbose=1)\n",
    "        \n",
    "        # Prints the final evaluation results, formatted to 4 decimal places.\n",
    "        print(f\"\\nTest Set Loss: {loss:.4f}\")\n",
    "        print(f\"Test Set Accuracy: {accuracy:.4f}\")\n",
    "\n",
    "        # --- Generate Detailed Performance Analysis ---\n",
    "        print(\"\\n--- Detailed Analysis ---\")\n",
    "        \n",
    "        # Use the model to predict the class for each image in the test set.\n",
    "        y_pred_probabilities = loaded_model.predict(x_test_data)\n",
    "        # The model outputs probabilities; we use np.argmax to find the class with the highest probability.\n",
    "        y_pred = np.argmax(y_pred_probabilities, axis=1)\n",
    "\n",
    "        # Generate and print a text report showing precision, recall, and f1-score for each digit.\n",
    "        print(\"\\n--- Classification Report ---\")\n",
    "        report = classification_report(y_test_data, y_pred, target_names=[str(i) for i in range(10)])\n",
    "        print(report)\n",
    "\n",
    "        # Generate and plot a confusion matrix to visualise which digits are being confused.\n",
    "        print(\"\\n--- Confusion Matrix ---\")\n",
    "        cm = confusion_matrix(y_test_data, y_pred)\n",
    "        plt.figure(figsize=(10, 8))\n",
    "        sns.heatmap(cm, annot=True, fmt='d', cmap='Blues')\n",
    "        plt.xlabel('Predicted Label')\n",
    "        plt.ylabel('Actual Label')\n",
    "        plt.title(f'Confusion Matrix for {loaded_model.name}')\n",
    "        plt.show()\n",
    "        \n",
    "        # Returns the loaded model object and its performance metrics for potential further use.\n",
    "        return loaded_model, accuracy, loss\n",
    "    else:\n",
    "        # If no model files matching the pattern were found, print a message and return nothing.\n",
    "        print(f\"No model files found in any subfolders of '{parent_folder}'.\")\n",
    "        return None, None, None"
   ]
  },
  {
   "cell_type": "markdown",
   "id": "5b24f712",
   "metadata": {},
   "source": [
    "### Testing the MLP model"
   ]
  },
  {
   "cell_type": "code",
   "execution_count": 29,
   "id": "d1f0f21f",
   "metadata": {},
   "outputs": [
    {
     "name": "stdout",
     "output_type": "stream",
     "text": [
      "Error: Parent directory not found at 'MLP_Models'\n"
     ]
    }
   ],
   "source": [
    "model_folder=\"MLP_Models\"\n",
    "# To capture the output, assign it to variables\n",
    "best_model, test_acc, test_loss = find_load_and_analyse_best_model(\n",
    "    parent_folder=model_folder,\n",
    "    x_test_data=X_test,\n",
    "    y_test_data=Y_test\n",
    ")\n",
    "\n"
   ]
  },
  {
   "cell_type": "markdown",
   "id": "80c2e325",
   "metadata": {},
   "source": [
    "### Testing the CNN model"
   ]
  },
  {
   "cell_type": "code",
   "execution_count": 30,
   "id": "9e42a562",
   "metadata": {},
   "outputs": [],
   "source": [
    "if run_cnn_experiments:\n",
    "    model_folder='CNN_Models'\n",
    "    # To capture the output, assign it to variables\n",
    "    best_model, test_acc, test_loss = find_load_and_analyse_best_model(\n",
    "        parent_folder=model_folder,\n",
    "        x_test_data=X_test,\n",
    "        y_test_data=Y_test\n",
    "    )\n",
    "\n",
    "\n"
   ]
  },
  {
   "cell_type": "markdown",
   "id": "d9820dc3",
   "metadata": {},
   "source": [
    "# Future to do's (not part of this assessment)\n",
    "- Implement KerasTuner, to automatically train and test models with a plethora of hyperparamaters, optimisers, loss functions:\n",
    "\n",
    "We first need to install it first: uv pip install keras-tuner\n",
    "import keras_tuner\n",
    "\n",
    "def build_model(hp):\n",
    "    \"\"\"This is our hypermodel, which defines the search space.\"\"\"\n",
    "    \n",
    "    model = Sequential(name=\"Tuned_MLP\")\n",
    "    model.add(Input(shape=(28, 28)))\n",
    "    model.add(Normalization())\n",
    "    model.add(Flatten())\n",
    "    \n",
    "    # --- Define Hyperparameters to Tune ---\n",
    "    # Tune the number of units in the first Dense layer\n",
    "    hp_units = hp.Int('units', min_value=32, max_value=512, step=32)\n",
    "    model.add(Dense(units=hp_units, activation='relu'))\n",
    "    \n",
    "    # Tune the learning rate\n",
    "    hp_learning_rate = hp.Choice('learning_rate', values=[1e-2, 1e-3, 1e-4])\n",
    "    \n",
    "    # Add the output layer\n",
    "    model.add(Dense(10, activation='softmax'))\n",
    "\n",
    "    # --- Compile the model inside the function ---\n",
    "    model.compile(\n",
    "        optimizer=tf.keras.optimizers.Adam(learning_rate=hp_learning_rate),\n",
    "        loss='sparse_categorical_crossentropy',\n",
    "        metrics=['accuracy']\n",
    "    )\n",
    "    \n",
    "    return model\n",
    "\n",
    "--- Set up the Tuner ---\n",
    "### We'll use RandomSearch, which randomly tries combinations.\n",
    "tuner = keras_tuner.RandomSearch(\n",
    "    build_model,\n",
    "    objective='val_accuracy',\n",
    "    max_trials=10,  # The total number of model variations to test\n",
    "    executions_per_trial=2, # The number of times to train each model variation\n",
    "    directory='tuning_results',\n",
    "    project_name='MNIST_Tuning'\n",
    ")\n",
    "\n",
    "### --- Start the Search ---\n",
    "### This is like model.fit(), but it runs the whole tuning process.\n",
    "tuner.search(X_train, Y_train, epochs=10, validation_split=0.1)\n",
    "\n",
    "### --- Get the Best Model ---\n",
    "best_model = tuner.get_best_models(num_models=1)[0]\n",
    "best_hyperparameters = tuner.get_best_hyperparameters(num_trials=1)[0]\n",
    "\n",
    "print(\"\\n--- Best Hyperparameters Found ---\")\n",
    "print(best_hyperparameters.values)\n",
    "\n",
    "print(\"\\n--- Evaluating the Best Model Found by the Tuner ---\")\n",
    "best_model.evaluate(X_test, Y_test)"
   ]
  },
  {
   "cell_type": "markdown",
   "id": "2428276c",
   "metadata": {},
   "source": [
    "# Testing a new approach (Future to do)\n",
    "### A Base Class for models, with a common interface and allowing for inheriting layers, inheriting behaviour"
   ]
  },
  {
   "cell_type": "code",
   "execution_count": 31,
   "id": "cd7275e8",
   "metadata": {},
   "outputs": [],
   "source": [
    "# # models.py\n",
    "# # This file serves as a centralised factory for creating our neural network models.\n",
    "# # It uses a class-based, inherited structure to keep the codebase organised and extensible.\n",
    "\n",
    "# import tensorflow as tf\n",
    "# from tensorflow.keras.layers import Normalization, Flatten, Dense, Conv2D, MaxPooling2D\n",
    "# from tensorflow.keras.models import Model\n",
    "\n",
    "# class BaseNeuralNetwork(Model):\n",
    "#     \"\"\"\n",
    "#     A base class for all neural networks in this project.\n",
    "#     It encapsulates the common input and preprocessing layers that all models will share.\n",
    "#     \"\"\"\n",
    "#     def __init__(self, **kwargs):\n",
    "#         # We call the parent constructor to ensure correct initialisation of the Keras Model.\n",
    "#         # **kwargs allows us to pass additional arguments like 'name' when creating subclasses.\n",
    "#         super().__init__(**kwargs)\n",
    "#         # These layers are common to all models and are defined here once for efficiency.\n",
    "#         self.normalization_layer = Normalization(name=\"normalization_layer\")\n",
    "#         self.flatten_layer = Flatten(name=\"flatten_layer\")\n",
    "\n",
    "#     def call(self, inputs):\n",
    "#         \"\"\"\n",
    "#         Defines the forward pass for the common preprocessing layers.\n",
    "#         \"\"\"\n",
    "#         # The input data is passed through the normalisation and flattening layers.\n",
    "#         x = self.normalization_layer(inputs)\n",
    "#         x = self.flatten_layer(x)\n",
    "#         return x\n",
    "\n",
    "# class MLPModel(BaseNeuralNetwork):\n",
    "#     \"\"\"\n",
    "#     A standard Multi-Layer Perceptron (MLP) model.\n",
    "#     It inherits the base preprocessing from BaseNeuralNetwork and adds dense layers.\n",
    "#     \"\"\"\n",
    "#     def __init__(self, num_units_1: int = 128, num_units_2: int = 256, num_units_3: int = 64, num_classes: int = 10, **kwargs):\n",
    "#         # We call the parent constructor and provide a specific name for this model.\n",
    "#         super().__init__(name='mlp_model', **kwargs)\n",
    "#         # Define the unique dense layers for this specific model architecture.\n",
    "#         self.dense_1 = Dense(units=num_units_1, activation='relu', name=\"dense_1\")\n",
    "#         self.dense_2 = Dense(units=num_units_2, activation='relu', name=\"dense_2\")\n",
    "#         self.dense_3 = Dense(units=num_units_3, activation='relu', name=\"dense_3\")\n",
    "#         self.output_layer = Dense(units=num_classes, activation='softmax', name=\"output_layer\")\n",
    "\n",
    "#     def call(self, inputs):\n",
    "#         # First, we process the input using the base class's call method.\n",
    "#         x = super().call(inputs)\n",
    "#         # Then, we pass the output through the MLP-specific layers.\n",
    "#         x = self.dense_1(x)\n",
    "#         x = self.dense_2(x)\n",
    "#         x = self.dense_3(x)\n",
    "#         return self.output_layer(x)\n",
    "\n",
    "# class MLP_Wide_Model(BaseNeuralNetwork):\n",
    "#     \"\"\"\n",
    "#     A wider, shallower MLP model. This is a variation for experimentation.\n",
    "#     \"\"\"\n",
    "#     def __init__(self, num_units_1: int = 256, num_units_2: int = 128, num_classes: int = 10, **kwargs):\n",
    "#         super().__init__(name='mlp_wide_model', **kwargs)\n",
    "#         # This model has a different configuration of dense layers.\n",
    "#         self.dense_1 = Dense(units=num_units_1, activation='relu', name=\"dense_1\")\n",
    "#         self.dense_2 = Dense(units=num_units_2, activation='relu', name=\"dense_2\")\n",
    "#         self.output_layer = Dense(units=num_classes, activation='softmax', name=\"output_layer\")\n",
    "\n",
    "#     def call(self, inputs):\n",
    "#         x = super().call(inputs)\n",
    "#         x = self.dense_1(x)\n",
    "#         x = self.dense_2(x)\n",
    "#         return self.output_layer(x)\n",
    "\n",
    "# class SimpleCNN(BaseNeuralNetwork):\n",
    "#     \"\"\"\n",
    "#     A simple Convolutional Neural Network (CNN) model for image classification.\n",
    "#     \"\"\"\n",
    "#     def __init__(self, num_classes: int = 10, **kwargs):\n",
    "#         super().__init__(name='simple_cnn', **kwargs)\n",
    "#         # The convolutional and pooling layers are unique to CNNs.\n",
    "#         self.conv1 = Conv2D(filters=32, kernel_size=(3, 3), activation='relu', name=\"conv1\")\n",
    "#         self.pool1 = MaxPooling2D(pool_size=(2, 2), name=\"pool1\")\n",
    "#         self.conv2 = Conv2D(filters=64, kernel_size=(3, 3), activation='relu', name=\"conv2\")\n",
    "#         self.pool2 = MaxPooling2D(pool_size=(2, 2), name=\"pool2\")\n",
    "#         self.output_layer = Dense(units=num_classes, activation='softmax', name=\"output_layer\")\n",
    "\n",
    "#     def call(self, inputs):\n",
    "#         # We start by using the base class's normalisation.\n",
    "#         x = self.normalization_layer(inputs)\n",
    "        \n",
    "#         # Then, we pass the output through the CNN-specific layers.\n",
    "#         x = self.conv1(x)\n",
    "#         x = self.pool1(x)\n",
    "#         x = self.conv2(x)\n",
    "#         x = self.pool2(x)\n",
    "\n",
    "#         # The flatten layer from the base class is still applied before the output layer.\n",
    "#         x = self.flatten_layer(x)\n",
    "        \n",
    "#         return self.output_layer(x)\n",
    "\n",
    "# class DeepCNN(BaseNeuralNetwork):\n",
    "#     \"\"\"\n",
    "#     A deeper CNN model with more layers for greater representational capacity.\n",
    "#     \"\"\"\n",
    "#     def __init__(self, num_classes: int = 10, **kwargs):\n",
    "#         super().__init__(name='deep_cnn', **kwargs)\n",
    "#         # This model has a more complex arrangement of convolutional layers.\n",
    "#         self.conv1 = Conv2D(32, (3, 3), activation='relu')\n",
    "#         self.conv2 = Conv2D(32, (3, 3), activation='relu')\n",
    "#         self.pool1 = MaxPooling2D(pool_size=(2, 2))\n",
    "#         self.conv3 = Conv2D(64, (3, 3), activation='relu')\n",
    "#         self.conv4 = Conv2D(64, (3, 3), activation='relu')\n",
    "#         self.pool2 = MaxPooling2D(pool_size=(2, 2))\n",
    "#         self.dense1 = Dense(128, activation='relu')\n",
    "#         self.output_layer = Dense(units=num_classes, activation='softmax')\n",
    "\n",
    "#     def call(self, inputs):\n",
    "#         x = self.normalization_layer(inputs)\n",
    "#         x = self.conv1(x)\n",
    "#         x = self.conv2(x)\n",
    "#         x = self.pool1(x)\n",
    "#         x = self.conv3(x)\n",
    "#         x = self.conv4(x)\n",
    "#         x = self.pool2(x)\n",
    "#         x = self.flatten_layer(x)\n",
    "#         x = self.dense1(x)\n",
    "#         return self.output_layer(x)\n",
    "\n",
    "# def create_model_from_class(model_class: type, input_shape, **kwargs):\n",
    "#     \"\"\"\n",
    "#     A helper function to instantiate a model class with a defined input shape.\n",
    "#     It automatically builds the model for you.\n",
    "#     \"\"\"\n",
    "#     model_instance = model_class(**kwargs)\n",
    "#     # The build method ensures that the model's layers are initialised with the correct input shape.\n",
    "#     model_instance.build(input_shape=(None,) + input_shape)\n",
    "#     return model_instance"
   ]
  }
 ],
 "metadata": {
  "kernelspec": {
   "display_name": "Assessment 2",
   "language": "python",
   "name": "python3"
  },
  "language_info": {
   "codemirror_mode": {
    "name": "ipython",
    "version": 3
   },
   "file_extension": ".py",
   "mimetype": "text/x-python",
   "name": "python",
   "nbconvert_exporter": "python",
   "pygments_lexer": "ipython3",
   "version": "3.13.5"
  }
 },
 "nbformat": 4,
 "nbformat_minor": 5
}
